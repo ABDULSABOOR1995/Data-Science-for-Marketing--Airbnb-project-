{
 "cells": [
  {
   "cell_type": "markdown",
   "metadata": {},
   "source": [
    "# Data Science for Marketing\n",
    "\n",
    "## Academic Project\n",
    "\n",
    "#### Tasks\n",
    "For the elaboration of this project you will be asked to manipulate, explore, analyze, and interpret a dataset. Each tasks is explained in a markdown cell. Each task is identified with a number.\n",
    "\n",
    "#### Guidelies\n",
    "The notebook should be completed with the code and analysis needed to answer the tasks. \n",
    "\n",
    "#### Dataset\n",
    "The data was collected from airbnb by a project called inside airbnb. They frequently scrape the airbnb site, listing by listing, and then publish the results with a Creative Commons CC0 1.0 Universal (CC0 1.0) \"Public Domain Dedication\" license, meaning we can copy, modify, distribute and perform the work, even for commercial purposes, all without asking permission. Two csv files have been sent to you. You will need to use both of them for this project, in different moments, of course.\n",
    "\n",
    "Source: http://insideairbnb.com/get-the-data.html (Porto - 28 November 2019)\n",
    "\n",
    "#### Goals\n",
    "Derive data-driven insights about the airbnb market in Porto.\n",
    "\n",
    "#### Tasks\n",
    "This project consists of 22 sequential tasks. You are given a cell to write your code (if you need more add them) and a markdown section to write an answer to the question."
   ]
  },
  {
   "cell_type": "markdown",
   "metadata": {},
   "source": [
    "# Boilerplate"
   ]
  },
  {
   "cell_type": "code",
   "execution_count": 1,
   "metadata": {},
   "outputs": [],
   "source": [
    "# Some packages/libraries you might need to perform the tasks\n",
    "\n",
    "import pandas as pd\n",
    "import numpy as np\n",
    "import statsmodels.api as sm\n",
    "import matplotlib.pyplot as plt\n",
    "from statsmodels.graphics.gofplots import qqplot\n",
    "import scipy.stats as stats\n",
    "from scipy import stats"
   ]
  },
  {
   "cell_type": "code",
   "execution_count": 2,
   "metadata": {},
   "outputs": [],
   "source": [
    "#  If you need to load additional libraries please do it so in this cell\n",
    "\n",
    "from numpy import mean\n",
    "from numpy import std\n",
    "from numpy import percentile\n",
    "import pylab\n",
    "import seaborn as sns"
   ]
  },
  {
   "cell_type": "markdown",
   "metadata": {},
   "source": [
    "## Data Ingestion\n",
    "\n",
    "<b> Task #1 </b><br>\n",
    "Import the listings.csv dataset as a pandas dataframe. <br>\n",
    "Display the top five records in the dataframe.<br>"
   ]
  },
  {
   "cell_type": "code",
   "execution_count": 3,
   "metadata": {
    "scrolled": true
   },
   "outputs": [
    {
     "data": {
      "text/html": [
       "<div>\n",
       "<style scoped>\n",
       "    .dataframe tbody tr th:only-of-type {\n",
       "        vertical-align: middle;\n",
       "    }\n",
       "\n",
       "    .dataframe tbody tr th {\n",
       "        vertical-align: top;\n",
       "    }\n",
       "\n",
       "    .dataframe thead th {\n",
       "        text-align: right;\n",
       "    }\n",
       "</style>\n",
       "<table border=\"1\" class=\"dataframe\">\n",
       "  <thead>\n",
       "    <tr style=\"text-align: right;\">\n",
       "      <th></th>\n",
       "      <th>id</th>\n",
       "      <th>listing_url</th>\n",
       "      <th>scrape_id</th>\n",
       "      <th>last_scraped</th>\n",
       "      <th>name</th>\n",
       "      <th>summary</th>\n",
       "      <th>space</th>\n",
       "      <th>description</th>\n",
       "      <th>experiences_offered</th>\n",
       "      <th>neighborhood_overview</th>\n",
       "      <th>...</th>\n",
       "      <th>instant_bookable</th>\n",
       "      <th>is_business_travel_ready</th>\n",
       "      <th>cancellation_policy</th>\n",
       "      <th>require_guest_profile_picture</th>\n",
       "      <th>require_guest_phone_verification</th>\n",
       "      <th>calculated_host_listings_count</th>\n",
       "      <th>calculated_host_listings_count_entire_homes</th>\n",
       "      <th>calculated_host_listings_count_private_rooms</th>\n",
       "      <th>calculated_host_listings_count_shared_rooms</th>\n",
       "      <th>reviews_per_month</th>\n",
       "    </tr>\n",
       "  </thead>\n",
       "  <tbody>\n",
       "    <tr>\n",
       "      <td>0</td>\n",
       "      <td>41339</td>\n",
       "      <td>https://www.airbnb.com/rooms/41339</td>\n",
       "      <td>20191128004830</td>\n",
       "      <td>2019-11-28</td>\n",
       "      <td>Porto city flat near the sea</td>\n",
       "      <td>Here you'll find all you need for your holiday...</td>\n",
       "      <td>Apartment facing Southeast, with a big bedroom...</td>\n",
       "      <td>Here you'll find all you need for your holiday...</td>\n",
       "      <td>none</td>\n",
       "      <td>In the surrounds you have Serralves Museum and...</td>\n",
       "      <td>...</td>\n",
       "      <td>t</td>\n",
       "      <td>f</td>\n",
       "      <td>strict_14_with_grace_period</td>\n",
       "      <td>f</td>\n",
       "      <td>f</td>\n",
       "      <td>1</td>\n",
       "      <td>1</td>\n",
       "      <td>0</td>\n",
       "      <td>0</td>\n",
       "      <td>0.21</td>\n",
       "    </tr>\n",
       "    <tr>\n",
       "      <td>1</td>\n",
       "      <td>42462</td>\n",
       "      <td>https://www.airbnb.com/rooms/42462</td>\n",
       "      <td>20191128004830</td>\n",
       "      <td>2019-11-28</td>\n",
       "      <td>Large Penthouse in Vila Nova Gaia</td>\n",
       "      <td>The Afurada Harbour can be reached within 10 m...</td>\n",
       "      <td>It's the perfect choice for family holidays or...</td>\n",
       "      <td>The Afurada Harbour can be reached within 10 m...</td>\n",
       "      <td>none</td>\n",
       "      <td>NaN</td>\n",
       "      <td>...</td>\n",
       "      <td>t</td>\n",
       "      <td>f</td>\n",
       "      <td>strict_14_with_grace_period</td>\n",
       "      <td>f</td>\n",
       "      <td>f</td>\n",
       "      <td>3</td>\n",
       "      <td>3</td>\n",
       "      <td>0</td>\n",
       "      <td>0</td>\n",
       "      <td>0.46</td>\n",
       "    </tr>\n",
       "    <tr>\n",
       "      <td>2</td>\n",
       "      <td>55111</td>\n",
       "      <td>https://www.airbnb.com/rooms/55111</td>\n",
       "      <td>20191128004830</td>\n",
       "      <td>2019-11-28</td>\n",
       "      <td>Fontielas Houses |Floor1 in House with shared ...</td>\n",
       "      <td>First Floor in House with shared Swimingpool a...</td>\n",
       "      <td>The first floor in house with shared pool.  It...</td>\n",
       "      <td>First Floor in House with shared Swimingpool a...</td>\n",
       "      <td>none</td>\n",
       "      <td>NaN</td>\n",
       "      <td>...</td>\n",
       "      <td>f</td>\n",
       "      <td>f</td>\n",
       "      <td>moderate</td>\n",
       "      <td>f</td>\n",
       "      <td>f</td>\n",
       "      <td>3</td>\n",
       "      <td>3</td>\n",
       "      <td>0</td>\n",
       "      <td>0</td>\n",
       "      <td>0.26</td>\n",
       "    </tr>\n",
       "    <tr>\n",
       "      <td>3</td>\n",
       "      <td>70925</td>\n",
       "      <td>https://www.airbnb.com/rooms/70925</td>\n",
       "      <td>20191128004830</td>\n",
       "      <td>2019-11-28</td>\n",
       "      <td>APARTMENT WITH THE BEST CITY VIEW</td>\n",
       "      <td>Two separate bedrooms are an undeniable advan...</td>\n",
       "      <td>Apartment with the best view of the Porto city...</td>\n",
       "      <td>Two separate bedrooms are an undeniable advan...</td>\n",
       "      <td>none</td>\n",
       "      <td>The house is near of the supermarkets, the Dou...</td>\n",
       "      <td>...</td>\n",
       "      <td>f</td>\n",
       "      <td>f</td>\n",
       "      <td>strict_14_with_grace_period</td>\n",
       "      <td>f</td>\n",
       "      <td>f</td>\n",
       "      <td>2</td>\n",
       "      <td>2</td>\n",
       "      <td>0</td>\n",
       "      <td>0</td>\n",
       "      <td>0.56</td>\n",
       "    </tr>\n",
       "    <tr>\n",
       "      <td>4</td>\n",
       "      <td>73828</td>\n",
       "      <td>https://www.airbnb.com/rooms/73828</td>\n",
       "      <td>20191128004830</td>\n",
       "      <td>2019-11-28</td>\n",
       "      <td>Fontielas Houses |Floor0 in House with shared ...</td>\n",
       "      <td>Piso no rés-do-chão em moradia com piscina par...</td>\n",
       "      <td>The first floor in house with shared pool.  Ou...</td>\n",
       "      <td>Piso no rés-do-chão em moradia com piscina par...</td>\n",
       "      <td>none</td>\n",
       "      <td>NaN</td>\n",
       "      <td>...</td>\n",
       "      <td>f</td>\n",
       "      <td>f</td>\n",
       "      <td>moderate</td>\n",
       "      <td>f</td>\n",
       "      <td>f</td>\n",
       "      <td>3</td>\n",
       "      <td>3</td>\n",
       "      <td>0</td>\n",
       "      <td>0</td>\n",
       "      <td>0.14</td>\n",
       "    </tr>\n",
       "  </tbody>\n",
       "</table>\n",
       "<p>5 rows × 106 columns</p>\n",
       "</div>"
      ],
      "text/plain": [
       "      id                         listing_url       scrape_id last_scraped  \\\n",
       "0  41339  https://www.airbnb.com/rooms/41339  20191128004830   2019-11-28   \n",
       "1  42462  https://www.airbnb.com/rooms/42462  20191128004830   2019-11-28   \n",
       "2  55111  https://www.airbnb.com/rooms/55111  20191128004830   2019-11-28   \n",
       "3  70925  https://www.airbnb.com/rooms/70925  20191128004830   2019-11-28   \n",
       "4  73828  https://www.airbnb.com/rooms/73828  20191128004830   2019-11-28   \n",
       "\n",
       "                                                name  \\\n",
       "0                       Porto city flat near the sea   \n",
       "1                  Large Penthouse in Vila Nova Gaia   \n",
       "2  Fontielas Houses |Floor1 in House with shared ...   \n",
       "3                  APARTMENT WITH THE BEST CITY VIEW   \n",
       "4  Fontielas Houses |Floor0 in House with shared ...   \n",
       "\n",
       "                                             summary  \\\n",
       "0  Here you'll find all you need for your holiday...   \n",
       "1  The Afurada Harbour can be reached within 10 m...   \n",
       "2  First Floor in House with shared Swimingpool a...   \n",
       "3   Two separate bedrooms are an undeniable advan...   \n",
       "4  Piso no rés-do-chão em moradia com piscina par...   \n",
       "\n",
       "                                               space  \\\n",
       "0  Apartment facing Southeast, with a big bedroom...   \n",
       "1  It's the perfect choice for family holidays or...   \n",
       "2  The first floor in house with shared pool.  It...   \n",
       "3  Apartment with the best view of the Porto city...   \n",
       "4  The first floor in house with shared pool.  Ou...   \n",
       "\n",
       "                                         description experiences_offered  \\\n",
       "0  Here you'll find all you need for your holiday...                none   \n",
       "1  The Afurada Harbour can be reached within 10 m...                none   \n",
       "2  First Floor in House with shared Swimingpool a...                none   \n",
       "3   Two separate bedrooms are an undeniable advan...                none   \n",
       "4  Piso no rés-do-chão em moradia com piscina par...                none   \n",
       "\n",
       "                               neighborhood_overview  ... instant_bookable  \\\n",
       "0  In the surrounds you have Serralves Museum and...  ...                t   \n",
       "1                                                NaN  ...                t   \n",
       "2                                                NaN  ...                f   \n",
       "3  The house is near of the supermarkets, the Dou...  ...                f   \n",
       "4                                                NaN  ...                f   \n",
       "\n",
       "  is_business_travel_ready          cancellation_policy  \\\n",
       "0                        f  strict_14_with_grace_period   \n",
       "1                        f  strict_14_with_grace_period   \n",
       "2                        f                     moderate   \n",
       "3                        f  strict_14_with_grace_period   \n",
       "4                        f                     moderate   \n",
       "\n",
       "  require_guest_profile_picture require_guest_phone_verification  \\\n",
       "0                             f                                f   \n",
       "1                             f                                f   \n",
       "2                             f                                f   \n",
       "3                             f                                f   \n",
       "4                             f                                f   \n",
       "\n",
       "   calculated_host_listings_count  \\\n",
       "0                               1   \n",
       "1                               3   \n",
       "2                               3   \n",
       "3                               2   \n",
       "4                               3   \n",
       "\n",
       "   calculated_host_listings_count_entire_homes  \\\n",
       "0                                            1   \n",
       "1                                            3   \n",
       "2                                            3   \n",
       "3                                            2   \n",
       "4                                            3   \n",
       "\n",
       "  calculated_host_listings_count_private_rooms  \\\n",
       "0                                            0   \n",
       "1                                            0   \n",
       "2                                            0   \n",
       "3                                            0   \n",
       "4                                            0   \n",
       "\n",
       "   calculated_host_listings_count_shared_rooms  reviews_per_month  \n",
       "0                                            0               0.21  \n",
       "1                                            0               0.46  \n",
       "2                                            0               0.26  \n",
       "3                                            0               0.56  \n",
       "4                                            0               0.14  \n",
       "\n",
       "[5 rows x 106 columns]"
      ]
     },
     "execution_count": 3,
     "metadata": {},
     "output_type": "execute_result"
    }
   ],
   "source": [
    "# Use this cell to write the necessary code to perform Task #1\n",
    "\n",
    "df = pd.read_csv(\"listings.csv\", low_memory=False)\n",
    "df.head()\n"
   ]
  },
  {
   "cell_type": "markdown",
   "metadata": {},
   "source": [
    "Answer:"
   ]
  },
  {
   "cell_type": "markdown",
   "metadata": {},
   "source": [
    "<b> Task #2 </b><br>\n",
    "Verify if there are duplicate values in the id column?"
   ]
  },
  {
   "cell_type": "code",
   "execution_count": 4,
   "metadata": {},
   "outputs": [
    {
     "name": "stdout",
     "output_type": "stream",
     "text": [
      "Series([], Name: id, dtype: int64)\n"
     ]
    }
   ],
   "source": [
    "# Use this cell to write the necessary code to perform Task #2\n",
    "\n",
    "dupes = df['id'].duplicated()\n",
    "print(df['id'][dupes])\n"
   ]
  },
  {
   "cell_type": "markdown",
   "metadata": {},
   "source": [
    "<b>Answer:</b> It returns empty series object, so id column doesn't have any duplicate value."
   ]
  },
  {
   "cell_type": "markdown",
   "metadata": {},
   "source": [
    "<b> Task #3</b><br>\n",
    "\n",
    "The file you have loaded contains too many columns and we have limited time. <br>\n",
    "Create a smaller dataframe that only contains the following columns:\n",
    "\n",
    "id, space, host_id, host_since, host_location, host_is_superhost, host_listings_count, host_identity_verified, smart_location, property_type, room_type, accommodates, bathrooms, bedrooms, beds, amenities, price, minimum_nights, maximum_nights, availability_30, availability_60, availability_90, availability_365, review_scores_rating, review_scores_accuracy, review_scores_cleanliness, review_scores_checkin, review_scores_communication, review_scores_location, review_scores_value, instant_bookable, cancellation_policy, calculated_host_listings_count, calculated_host_listings_count_entire_homes, calculated_host_listings_count_private_rooms, calculated_host_listings_count_shared_rooms, reviews_per_month\n",
    "\n",
    "For each of these columns, what are their data types?\n",
    "\n",
    "Note: From now on we will work with only this dataframe."
   ]
  },
  {
   "cell_type": "code",
   "execution_count": 5,
   "metadata": {
    "scrolled": true
   },
   "outputs": [
    {
     "data": {
      "text/html": [
       "<div>\n",
       "<style scoped>\n",
       "    .dataframe tbody tr th:only-of-type {\n",
       "        vertical-align: middle;\n",
       "    }\n",
       "\n",
       "    .dataframe tbody tr th {\n",
       "        vertical-align: top;\n",
       "    }\n",
       "\n",
       "    .dataframe thead th {\n",
       "        text-align: right;\n",
       "    }\n",
       "</style>\n",
       "<table border=\"1\" class=\"dataframe\">\n",
       "  <thead>\n",
       "    <tr style=\"text-align: right;\">\n",
       "      <th></th>\n",
       "      <th>id</th>\n",
       "      <th>space</th>\n",
       "      <th>host_id</th>\n",
       "      <th>host_since</th>\n",
       "      <th>host_location</th>\n",
       "      <th>host_is_superhost</th>\n",
       "      <th>host_listings_count</th>\n",
       "      <th>host_identity_verified</th>\n",
       "      <th>smart_location</th>\n",
       "      <th>property_type</th>\n",
       "      <th>...</th>\n",
       "      <th>review_scores_communication</th>\n",
       "      <th>review_scores_location</th>\n",
       "      <th>review_scores_value</th>\n",
       "      <th>instant_bookable</th>\n",
       "      <th>cancellation_policy</th>\n",
       "      <th>calculated_host_listings_count</th>\n",
       "      <th>calculated_host_listings_count_entire_homes</th>\n",
       "      <th>calculated_host_listings_count_private_rooms</th>\n",
       "      <th>calculated_host_listings_count_shared_rooms</th>\n",
       "      <th>reviews_per_month</th>\n",
       "    </tr>\n",
       "  </thead>\n",
       "  <tbody>\n",
       "    <tr>\n",
       "      <td>0</td>\n",
       "      <td>41339</td>\n",
       "      <td>Apartment facing Southeast, with a big bedroom...</td>\n",
       "      <td>180050</td>\n",
       "      <td>2010-07-25</td>\n",
       "      <td>Oporto, Porto District, Portugal</td>\n",
       "      <td>f</td>\n",
       "      <td>19.0</td>\n",
       "      <td>t</td>\n",
       "      <td>Porto, Portugal</td>\n",
       "      <td>Apartment</td>\n",
       "      <td>...</td>\n",
       "      <td>10.0</td>\n",
       "      <td>9.0</td>\n",
       "      <td>9.0</td>\n",
       "      <td>t</td>\n",
       "      <td>strict_14_with_grace_period</td>\n",
       "      <td>1</td>\n",
       "      <td>1</td>\n",
       "      <td>0</td>\n",
       "      <td>0</td>\n",
       "      <td>0.21</td>\n",
       "    </tr>\n",
       "    <tr>\n",
       "      <td>1</td>\n",
       "      <td>42462</td>\n",
       "      <td>It's the perfect choice for family holidays or...</td>\n",
       "      <td>185492</td>\n",
       "      <td>2010-07-30</td>\n",
       "      <td>Vila Nova de Gaia, Porto District, Portugal</td>\n",
       "      <td>t</td>\n",
       "      <td>3.0</td>\n",
       "      <td>t</td>\n",
       "      <td>Vila Nova de Gaia-Palmeira, Portugal</td>\n",
       "      <td>Apartment</td>\n",
       "      <td>...</td>\n",
       "      <td>10.0</td>\n",
       "      <td>9.0</td>\n",
       "      <td>9.0</td>\n",
       "      <td>t</td>\n",
       "      <td>strict_14_with_grace_period</td>\n",
       "      <td>3</td>\n",
       "      <td>3</td>\n",
       "      <td>0</td>\n",
       "      <td>0</td>\n",
       "      <td>0.46</td>\n",
       "    </tr>\n",
       "    <tr>\n",
       "      <td>2</td>\n",
       "      <td>55111</td>\n",
       "      <td>The first floor in house with shared pool.  It...</td>\n",
       "      <td>259711</td>\n",
       "      <td>2010-10-12</td>\n",
       "      <td>Porto, Porto, Portugal</td>\n",
       "      <td>t</td>\n",
       "      <td>3.0</td>\n",
       "      <td>t</td>\n",
       "      <td>Paredes Municipality, Portugal</td>\n",
       "      <td>Apartment</td>\n",
       "      <td>...</td>\n",
       "      <td>10.0</td>\n",
       "      <td>10.0</td>\n",
       "      <td>10.0</td>\n",
       "      <td>f</td>\n",
       "      <td>moderate</td>\n",
       "      <td>3</td>\n",
       "      <td>3</td>\n",
       "      <td>0</td>\n",
       "      <td>0</td>\n",
       "      <td>0.26</td>\n",
       "    </tr>\n",
       "    <tr>\n",
       "      <td>3</td>\n",
       "      <td>70925</td>\n",
       "      <td>Apartment with the best view of the Porto city...</td>\n",
       "      <td>361205</td>\n",
       "      <td>2011-01-25</td>\n",
       "      <td>Vila Nova de Gaia, Porto District, Portugal</td>\n",
       "      <td>t</td>\n",
       "      <td>2.0</td>\n",
       "      <td>t</td>\n",
       "      <td>Vila Nova de Gaia, Portugal</td>\n",
       "      <td>Apartment</td>\n",
       "      <td>...</td>\n",
       "      <td>10.0</td>\n",
       "      <td>10.0</td>\n",
       "      <td>10.0</td>\n",
       "      <td>f</td>\n",
       "      <td>strict_14_with_grace_period</td>\n",
       "      <td>2</td>\n",
       "      <td>2</td>\n",
       "      <td>0</td>\n",
       "      <td>0</td>\n",
       "      <td>0.56</td>\n",
       "    </tr>\n",
       "    <tr>\n",
       "      <td>4</td>\n",
       "      <td>73828</td>\n",
       "      <td>The first floor in house with shared pool.  Ou...</td>\n",
       "      <td>259711</td>\n",
       "      <td>2010-10-12</td>\n",
       "      <td>Porto, Porto, Portugal</td>\n",
       "      <td>t</td>\n",
       "      <td>3.0</td>\n",
       "      <td>t</td>\n",
       "      <td>Estação, Portugal</td>\n",
       "      <td>Apartment</td>\n",
       "      <td>...</td>\n",
       "      <td>10.0</td>\n",
       "      <td>10.0</td>\n",
       "      <td>9.0</td>\n",
       "      <td>f</td>\n",
       "      <td>moderate</td>\n",
       "      <td>3</td>\n",
       "      <td>3</td>\n",
       "      <td>0</td>\n",
       "      <td>0</td>\n",
       "      <td>0.14</td>\n",
       "    </tr>\n",
       "    <tr>\n",
       "      <td>...</td>\n",
       "      <td>...</td>\n",
       "      <td>...</td>\n",
       "      <td>...</td>\n",
       "      <td>...</td>\n",
       "      <td>...</td>\n",
       "      <td>...</td>\n",
       "      <td>...</td>\n",
       "      <td>...</td>\n",
       "      <td>...</td>\n",
       "      <td>...</td>\n",
       "      <td>...</td>\n",
       "      <td>...</td>\n",
       "      <td>...</td>\n",
       "      <td>...</td>\n",
       "      <td>...</td>\n",
       "      <td>...</td>\n",
       "      <td>...</td>\n",
       "      <td>...</td>\n",
       "      <td>...</td>\n",
       "      <td>...</td>\n",
       "      <td>...</td>\n",
       "    </tr>\n",
       "    <tr>\n",
       "      <td>11651</td>\n",
       "      <td>40421454</td>\n",
       "      <td>NaN</td>\n",
       "      <td>35468894</td>\n",
       "      <td>2015-06-10</td>\n",
       "      <td>Porto, Porto District, Portugal</td>\n",
       "      <td>t</td>\n",
       "      <td>14.0</td>\n",
       "      <td>f</td>\n",
       "      <td>Porto, Portugal</td>\n",
       "      <td>Apartment</td>\n",
       "      <td>...</td>\n",
       "      <td>NaN</td>\n",
       "      <td>NaN</td>\n",
       "      <td>NaN</td>\n",
       "      <td>t</td>\n",
       "      <td>flexible</td>\n",
       "      <td>18</td>\n",
       "      <td>18</td>\n",
       "      <td>0</td>\n",
       "      <td>0</td>\n",
       "      <td>NaN</td>\n",
       "    </tr>\n",
       "    <tr>\n",
       "      <td>11652</td>\n",
       "      <td>40421547</td>\n",
       "      <td>This apartment, located in Porto, is ideal for...</td>\n",
       "      <td>137500257</td>\n",
       "      <td>2017-06-28</td>\n",
       "      <td>Lisbon, Lisbon, Portugal</td>\n",
       "      <td>f</td>\n",
       "      <td>564.0</td>\n",
       "      <td>f</td>\n",
       "      <td>Porto, Portugal</td>\n",
       "      <td>Apartment</td>\n",
       "      <td>...</td>\n",
       "      <td>NaN</td>\n",
       "      <td>NaN</td>\n",
       "      <td>NaN</td>\n",
       "      <td>f</td>\n",
       "      <td>strict_14_with_grace_period</td>\n",
       "      <td>48</td>\n",
       "      <td>48</td>\n",
       "      <td>0</td>\n",
       "      <td>0</td>\n",
       "      <td>NaN</td>\n",
       "    </tr>\n",
       "    <tr>\n",
       "      <td>11653</td>\n",
       "      <td>40421819</td>\n",
       "      <td>NaN</td>\n",
       "      <td>35468894</td>\n",
       "      <td>2015-06-10</td>\n",
       "      <td>Porto, Porto District, Portugal</td>\n",
       "      <td>t</td>\n",
       "      <td>14.0</td>\n",
       "      <td>f</td>\n",
       "      <td>Porto, Portugal</td>\n",
       "      <td>Apartment</td>\n",
       "      <td>...</td>\n",
       "      <td>NaN</td>\n",
       "      <td>NaN</td>\n",
       "      <td>NaN</td>\n",
       "      <td>t</td>\n",
       "      <td>flexible</td>\n",
       "      <td>18</td>\n",
       "      <td>18</td>\n",
       "      <td>0</td>\n",
       "      <td>0</td>\n",
       "      <td>NaN</td>\n",
       "    </tr>\n",
       "    <tr>\n",
       "      <td>11654</td>\n",
       "      <td>40421988</td>\n",
       "      <td>NaN</td>\n",
       "      <td>35468894</td>\n",
       "      <td>2015-06-10</td>\n",
       "      <td>Porto, Porto District, Portugal</td>\n",
       "      <td>t</td>\n",
       "      <td>14.0</td>\n",
       "      <td>f</td>\n",
       "      <td>Porto, Portugal</td>\n",
       "      <td>Apartment</td>\n",
       "      <td>...</td>\n",
       "      <td>NaN</td>\n",
       "      <td>NaN</td>\n",
       "      <td>NaN</td>\n",
       "      <td>t</td>\n",
       "      <td>flexible</td>\n",
       "      <td>18</td>\n",
       "      <td>18</td>\n",
       "      <td>0</td>\n",
       "      <td>0</td>\n",
       "      <td>NaN</td>\n",
       "    </tr>\n",
       "    <tr>\n",
       "      <td>11655</td>\n",
       "      <td>40422444</td>\n",
       "      <td>This apartment, located in Porto, is ideal for...</td>\n",
       "      <td>137500257</td>\n",
       "      <td>2017-06-28</td>\n",
       "      <td>Lisbon, Lisbon, Portugal</td>\n",
       "      <td>f</td>\n",
       "      <td>564.0</td>\n",
       "      <td>f</td>\n",
       "      <td>Porto, Portugal</td>\n",
       "      <td>Apartment</td>\n",
       "      <td>...</td>\n",
       "      <td>NaN</td>\n",
       "      <td>NaN</td>\n",
       "      <td>NaN</td>\n",
       "      <td>f</td>\n",
       "      <td>strict_14_with_grace_period</td>\n",
       "      <td>48</td>\n",
       "      <td>48</td>\n",
       "      <td>0</td>\n",
       "      <td>0</td>\n",
       "      <td>NaN</td>\n",
       "    </tr>\n",
       "  </tbody>\n",
       "</table>\n",
       "<p>11656 rows × 37 columns</p>\n",
       "</div>"
      ],
      "text/plain": [
       "             id                                              space    host_id  \\\n",
       "0         41339  Apartment facing Southeast, with a big bedroom...     180050   \n",
       "1         42462  It's the perfect choice for family holidays or...     185492   \n",
       "2         55111  The first floor in house with shared pool.  It...     259711   \n",
       "3         70925  Apartment with the best view of the Porto city...     361205   \n",
       "4         73828  The first floor in house with shared pool.  Ou...     259711   \n",
       "...         ...                                                ...        ...   \n",
       "11651  40421454                                                NaN   35468894   \n",
       "11652  40421547  This apartment, located in Porto, is ideal for...  137500257   \n",
       "11653  40421819                                                NaN   35468894   \n",
       "11654  40421988                                                NaN   35468894   \n",
       "11655  40422444  This apartment, located in Porto, is ideal for...  137500257   \n",
       "\n",
       "       host_since                                host_location  \\\n",
       "0      2010-07-25             Oporto, Porto District, Portugal   \n",
       "1      2010-07-30  Vila Nova de Gaia, Porto District, Portugal   \n",
       "2      2010-10-12                       Porto, Porto, Portugal   \n",
       "3      2011-01-25  Vila Nova de Gaia, Porto District, Portugal   \n",
       "4      2010-10-12                       Porto, Porto, Portugal   \n",
       "...           ...                                          ...   \n",
       "11651  2015-06-10              Porto, Porto District, Portugal   \n",
       "11652  2017-06-28                     Lisbon, Lisbon, Portugal   \n",
       "11653  2015-06-10              Porto, Porto District, Portugal   \n",
       "11654  2015-06-10              Porto, Porto District, Portugal   \n",
       "11655  2017-06-28                     Lisbon, Lisbon, Portugal   \n",
       "\n",
       "      host_is_superhost  host_listings_count host_identity_verified  \\\n",
       "0                     f                 19.0                      t   \n",
       "1                     t                  3.0                      t   \n",
       "2                     t                  3.0                      t   \n",
       "3                     t                  2.0                      t   \n",
       "4                     t                  3.0                      t   \n",
       "...                 ...                  ...                    ...   \n",
       "11651                 t                 14.0                      f   \n",
       "11652                 f                564.0                      f   \n",
       "11653                 t                 14.0                      f   \n",
       "11654                 t                 14.0                      f   \n",
       "11655                 f                564.0                      f   \n",
       "\n",
       "                             smart_location property_type  ...  \\\n",
       "0                           Porto, Portugal     Apartment  ...   \n",
       "1      Vila Nova de Gaia-Palmeira, Portugal     Apartment  ...   \n",
       "2            Paredes Municipality, Portugal     Apartment  ...   \n",
       "3               Vila Nova de Gaia, Portugal     Apartment  ...   \n",
       "4                         Estação, Portugal     Apartment  ...   \n",
       "...                                     ...           ...  ...   \n",
       "11651                       Porto, Portugal     Apartment  ...   \n",
       "11652                       Porto, Portugal     Apartment  ...   \n",
       "11653                       Porto, Portugal     Apartment  ...   \n",
       "11654                       Porto, Portugal     Apartment  ...   \n",
       "11655                       Porto, Portugal     Apartment  ...   \n",
       "\n",
       "      review_scores_communication  review_scores_location  \\\n",
       "0                            10.0                     9.0   \n",
       "1                            10.0                     9.0   \n",
       "2                            10.0                    10.0   \n",
       "3                            10.0                    10.0   \n",
       "4                            10.0                    10.0   \n",
       "...                           ...                     ...   \n",
       "11651                         NaN                     NaN   \n",
       "11652                         NaN                     NaN   \n",
       "11653                         NaN                     NaN   \n",
       "11654                         NaN                     NaN   \n",
       "11655                         NaN                     NaN   \n",
       "\n",
       "       review_scores_value  instant_bookable          cancellation_policy  \\\n",
       "0                      9.0                 t  strict_14_with_grace_period   \n",
       "1                      9.0                 t  strict_14_with_grace_period   \n",
       "2                     10.0                 f                     moderate   \n",
       "3                     10.0                 f  strict_14_with_grace_period   \n",
       "4                      9.0                 f                     moderate   \n",
       "...                    ...               ...                          ...   \n",
       "11651                  NaN                 t                     flexible   \n",
       "11652                  NaN                 f  strict_14_with_grace_period   \n",
       "11653                  NaN                 t                     flexible   \n",
       "11654                  NaN                 t                     flexible   \n",
       "11655                  NaN                 f  strict_14_with_grace_period   \n",
       "\n",
       "      calculated_host_listings_count  \\\n",
       "0                                  1   \n",
       "1                                  3   \n",
       "2                                  3   \n",
       "3                                  2   \n",
       "4                                  3   \n",
       "...                              ...   \n",
       "11651                             18   \n",
       "11652                             48   \n",
       "11653                             18   \n",
       "11654                             18   \n",
       "11655                             48   \n",
       "\n",
       "      calculated_host_listings_count_entire_homes  \\\n",
       "0                                               1   \n",
       "1                                               3   \n",
       "2                                               3   \n",
       "3                                               2   \n",
       "4                                               3   \n",
       "...                                           ...   \n",
       "11651                                          18   \n",
       "11652                                          48   \n",
       "11653                                          18   \n",
       "11654                                          18   \n",
       "11655                                          48   \n",
       "\n",
       "       calculated_host_listings_count_private_rooms  \\\n",
       "0                                                 0   \n",
       "1                                                 0   \n",
       "2                                                 0   \n",
       "3                                                 0   \n",
       "4                                                 0   \n",
       "...                                             ...   \n",
       "11651                                             0   \n",
       "11652                                             0   \n",
       "11653                                             0   \n",
       "11654                                             0   \n",
       "11655                                             0   \n",
       "\n",
       "       calculated_host_listings_count_shared_rooms  reviews_per_month  \n",
       "0                                                0               0.21  \n",
       "1                                                0               0.46  \n",
       "2                                                0               0.26  \n",
       "3                                                0               0.56  \n",
       "4                                                0               0.14  \n",
       "...                                            ...                ...  \n",
       "11651                                            0                NaN  \n",
       "11652                                            0                NaN  \n",
       "11653                                            0                NaN  \n",
       "11654                                            0                NaN  \n",
       "11655                                            0                NaN  \n",
       "\n",
       "[11656 rows x 37 columns]"
      ]
     },
     "execution_count": 5,
     "metadata": {},
     "output_type": "execute_result"
    }
   ],
   "source": [
    "# Use this cell to write the necessary code to perform Task #3\n",
    "df1 = df[['id', 'space', 'host_id', 'host_since', 'host_location', 'host_is_superhost', 'host_listings_count',\n",
    "          'host_identity_verified', 'smart_location', 'property_type', 'room_type', 'accommodates', 'bathrooms', 'bedrooms',\n",
    "          'beds', 'amenities', 'price', 'minimum_nights', 'maximum_nights', 'availability_30', 'availability_60',\n",
    "          'availability_90', 'availability_365', 'review_scores_rating', 'review_scores_accuracy', 'review_scores_cleanliness',\n",
    "          'review_scores_checkin', 'review_scores_communication', 'review_scores_location', 'review_scores_value',\n",
    "          'instant_bookable', 'cancellation_policy', 'calculated_host_listings_count', 'calculated_host_listings_count_entire_homes',\n",
    "          'calculated_host_listings_count_private_rooms', 'calculated_host_listings_count_shared_rooms', 'reviews_per_month']]\n",
    "\n",
    "df1\n"
   ]
  },
  {
   "cell_type": "markdown",
   "metadata": {},
   "source": [
    "Answer:"
   ]
  },
  {
   "cell_type": "markdown",
   "metadata": {},
   "source": [
    "## Data Manipulation and Feature Engineering\n",
    "\n",
    "Lets take a closer look the price feature. <br>\n",
    "It has a object data type, however we need to work it as a float. Furthermore it is expressed in dollars, which is a problem.\n",
    "\n",
    "<b> Task #4 </b><br>\n",
    "Create a new column priceDollar the price as a float."
   ]
  },
  {
   "cell_type": "code",
   "execution_count": 6,
   "metadata": {},
   "outputs": [
    {
     "name": "stdout",
     "output_type": "stream",
     "text": [
      "True\n"
     ]
    },
    {
     "ename": "ValueError",
     "evalue": "could not convert string to float: '8,509.00'",
     "output_type": "error",
     "traceback": [
      "\u001b[1;31m---------------------------------------------------------------------------\u001b[0m",
      "\u001b[1;31mValueError\u001b[0m                                Traceback (most recent call last)",
      "\u001b[1;32m<ipython-input-6-528cd664e9b9>\u001b[0m in \u001b[0;36m<module>\u001b[1;34m\u001b[0m\n\u001b[0;32m      6\u001b[0m \u001b[0mprint\u001b[0m\u001b[1;33m(\u001b[0m\u001b[0mlen\u001b[0m\u001b[1;33m(\u001b[0m\u001b[0mdf\u001b[0m\u001b[1;33m[\u001b[0m\u001b[1;34m'price'\u001b[0m\u001b[1;33m]\u001b[0m\u001b[1;33m)\u001b[0m \u001b[1;33m==\u001b[0m \u001b[0mlen\u001b[0m\u001b[1;33m(\u001b[0m\u001b[0mnum_list\u001b[0m\u001b[1;33m)\u001b[0m\u001b[1;33m)\u001b[0m\u001b[1;33m\u001b[0m\u001b[1;33m\u001b[0m\u001b[0m\n\u001b[0;32m      7\u001b[0m \u001b[1;33m\u001b[0m\u001b[0m\n\u001b[1;32m----> 8\u001b[1;33m \u001b[0mdollar_list\u001b[0m \u001b[1;33m=\u001b[0m \u001b[1;33m[\u001b[0m\u001b[0mfloat\u001b[0m\u001b[1;33m(\u001b[0m\u001b[0mi\u001b[0m\u001b[1;33m)\u001b[0m \u001b[1;32mfor\u001b[0m \u001b[0mi\u001b[0m \u001b[1;32min\u001b[0m \u001b[0mnum_list\u001b[0m\u001b[1;33m]\u001b[0m\u001b[1;33m\u001b[0m\u001b[1;33m\u001b[0m\u001b[0m\n\u001b[0m\u001b[0;32m      9\u001b[0m \u001b[0mdollar_list\u001b[0m\u001b[1;33m\u001b[0m\u001b[1;33m\u001b[0m\u001b[0m\n",
      "\u001b[1;32m<ipython-input-6-528cd664e9b9>\u001b[0m in \u001b[0;36m<listcomp>\u001b[1;34m(.0)\u001b[0m\n\u001b[0;32m      6\u001b[0m \u001b[0mprint\u001b[0m\u001b[1;33m(\u001b[0m\u001b[0mlen\u001b[0m\u001b[1;33m(\u001b[0m\u001b[0mdf\u001b[0m\u001b[1;33m[\u001b[0m\u001b[1;34m'price'\u001b[0m\u001b[1;33m]\u001b[0m\u001b[1;33m)\u001b[0m \u001b[1;33m==\u001b[0m \u001b[0mlen\u001b[0m\u001b[1;33m(\u001b[0m\u001b[0mnum_list\u001b[0m\u001b[1;33m)\u001b[0m\u001b[1;33m)\u001b[0m\u001b[1;33m\u001b[0m\u001b[1;33m\u001b[0m\u001b[0m\n\u001b[0;32m      7\u001b[0m \u001b[1;33m\u001b[0m\u001b[0m\n\u001b[1;32m----> 8\u001b[1;33m \u001b[0mdollar_list\u001b[0m \u001b[1;33m=\u001b[0m \u001b[1;33m[\u001b[0m\u001b[0mfloat\u001b[0m\u001b[1;33m(\u001b[0m\u001b[0mi\u001b[0m\u001b[1;33m)\u001b[0m \u001b[1;32mfor\u001b[0m \u001b[0mi\u001b[0m \u001b[1;32min\u001b[0m \u001b[0mnum_list\u001b[0m\u001b[1;33m]\u001b[0m\u001b[1;33m\u001b[0m\u001b[1;33m\u001b[0m\u001b[0m\n\u001b[0m\u001b[0;32m      9\u001b[0m \u001b[0mdollar_list\u001b[0m\u001b[1;33m\u001b[0m\u001b[1;33m\u001b[0m\u001b[0m\n",
      "\u001b[1;31mValueError\u001b[0m: could not convert string to float: '8,509.00'"
     ]
    }
   ],
   "source": [
    "num_list = []\n",
    "for i in df['price'].tolist():\n",
    "    \n",
    "    num_list.append(i[1:])\n",
    "    \n",
    "print(len(df['price']) == len(num_list))\n",
    "\n",
    "dollar_list = [float(i) for i in num_list]\n",
    "dollar_list"
   ]
  },
  {
   "cell_type": "markdown",
   "metadata": {},
   "source": [
    "Here we have a record in which price isn't given in the standard format, so we delete that row from df1"
   ]
  },
  {
   "cell_type": "code",
   "execution_count": 7,
   "metadata": {},
   "outputs": [
    {
     "name": "stdout",
     "output_type": "stream",
     "text": [
      "Here we have 53 records that aren't following standard format,their indices are \n",
      "\n",
      "[273, 3427, 3661, 3860, 4465, 6086, 7485, 7486, 7501, 7502, 7503, 7504, 8733, 8734, 8735, 8737, 8738, 8796, 9545, 9750, 9751, 9752, 9753, 9754, 9755, 9756, 9757, 9758, 9760, 9761, 9762, 9888, 9889, 9890, 10111, 10114, 10115, 10547, 10548, 10562, 10700, 10701, 10702, 10703, 10765, 10766, 10767, 10769, 10770, 10771, 10823, 10973, 11196]\n"
     ]
    }
   ],
   "source": [
    "# find the records in which price isn't following standard format\n",
    "\n",
    "indices = []\n",
    "n = 0\n",
    "for i in df1['price'].tolist():\n",
    "    for j in i:\n",
    "        \n",
    "        if j == ',':\n",
    "            \n",
    "            indices.append(n)\n",
    "            \n",
    "    n+=1\n",
    "        \n",
    "    \n",
    "print(\"Here we have \"+str(len(indices))+\" records that aren't following standard format,their indices are \\n\\n\"+str(indices))\n",
    "        "
   ]
  },
  {
   "cell_type": "markdown",
   "metadata": {},
   "source": [
    "So first we delete these rows from df1"
   ]
  },
  {
   "cell_type": "code",
   "execution_count": 8,
   "metadata": {},
   "outputs": [
    {
     "name": "stdout",
     "output_type": "stream",
     "text": [
      "Records are deleted\n"
     ]
    },
    {
     "name": "stderr",
     "output_type": "stream",
     "text": [
      "C:\\Users\\d store\\Anaconda3\\lib\\site-packages\\pandas\\core\\frame.py:4102: SettingWithCopyWarning: \n",
      "A value is trying to be set on a copy of a slice from a DataFrame\n",
      "\n",
      "See the caveats in the documentation: http://pandas.pydata.org/pandas-docs/stable/user_guide/indexing.html#returning-a-view-versus-a-copy\n",
      "  errors=errors,\n"
     ]
    }
   ],
   "source": [
    "df1.drop(indices, axis = 0, inplace = True )\n",
    "print(\"Records are deleted\")"
   ]
  },
  {
   "cell_type": "code",
   "execution_count": 9,
   "metadata": {},
   "outputs": [
    {
     "data": {
      "text/html": [
       "<div>\n",
       "<style scoped>\n",
       "    .dataframe tbody tr th:only-of-type {\n",
       "        vertical-align: middle;\n",
       "    }\n",
       "\n",
       "    .dataframe tbody tr th {\n",
       "        vertical-align: top;\n",
       "    }\n",
       "\n",
       "    .dataframe thead th {\n",
       "        text-align: right;\n",
       "    }\n",
       "</style>\n",
       "<table border=\"1\" class=\"dataframe\">\n",
       "  <thead>\n",
       "    <tr style=\"text-align: right;\">\n",
       "      <th></th>\n",
       "      <th>index</th>\n",
       "      <th>id</th>\n",
       "      <th>space</th>\n",
       "      <th>host_id</th>\n",
       "      <th>host_since</th>\n",
       "      <th>host_location</th>\n",
       "      <th>host_is_superhost</th>\n",
       "      <th>host_listings_count</th>\n",
       "      <th>host_identity_verified</th>\n",
       "      <th>smart_location</th>\n",
       "      <th>...</th>\n",
       "      <th>review_scores_communication</th>\n",
       "      <th>review_scores_location</th>\n",
       "      <th>review_scores_value</th>\n",
       "      <th>instant_bookable</th>\n",
       "      <th>cancellation_policy</th>\n",
       "      <th>calculated_host_listings_count</th>\n",
       "      <th>calculated_host_listings_count_entire_homes</th>\n",
       "      <th>calculated_host_listings_count_private_rooms</th>\n",
       "      <th>calculated_host_listings_count_shared_rooms</th>\n",
       "      <th>reviews_per_month</th>\n",
       "    </tr>\n",
       "  </thead>\n",
       "  <tbody>\n",
       "    <tr>\n",
       "      <td>0</td>\n",
       "      <td>0</td>\n",
       "      <td>41339</td>\n",
       "      <td>Apartment facing Southeast, with a big bedroom...</td>\n",
       "      <td>180050</td>\n",
       "      <td>2010-07-25</td>\n",
       "      <td>Oporto, Porto District, Portugal</td>\n",
       "      <td>f</td>\n",
       "      <td>19.0</td>\n",
       "      <td>t</td>\n",
       "      <td>Porto, Portugal</td>\n",
       "      <td>...</td>\n",
       "      <td>10.0</td>\n",
       "      <td>9.0</td>\n",
       "      <td>9.0</td>\n",
       "      <td>t</td>\n",
       "      <td>strict_14_with_grace_period</td>\n",
       "      <td>1</td>\n",
       "      <td>1</td>\n",
       "      <td>0</td>\n",
       "      <td>0</td>\n",
       "      <td>0.21</td>\n",
       "    </tr>\n",
       "    <tr>\n",
       "      <td>1</td>\n",
       "      <td>1</td>\n",
       "      <td>42462</td>\n",
       "      <td>It's the perfect choice for family holidays or...</td>\n",
       "      <td>185492</td>\n",
       "      <td>2010-07-30</td>\n",
       "      <td>Vila Nova de Gaia, Porto District, Portugal</td>\n",
       "      <td>t</td>\n",
       "      <td>3.0</td>\n",
       "      <td>t</td>\n",
       "      <td>Vila Nova de Gaia-Palmeira, Portugal</td>\n",
       "      <td>...</td>\n",
       "      <td>10.0</td>\n",
       "      <td>9.0</td>\n",
       "      <td>9.0</td>\n",
       "      <td>t</td>\n",
       "      <td>strict_14_with_grace_period</td>\n",
       "      <td>3</td>\n",
       "      <td>3</td>\n",
       "      <td>0</td>\n",
       "      <td>0</td>\n",
       "      <td>0.46</td>\n",
       "    </tr>\n",
       "    <tr>\n",
       "      <td>2</td>\n",
       "      <td>2</td>\n",
       "      <td>55111</td>\n",
       "      <td>The first floor in house with shared pool.  It...</td>\n",
       "      <td>259711</td>\n",
       "      <td>2010-10-12</td>\n",
       "      <td>Porto, Porto, Portugal</td>\n",
       "      <td>t</td>\n",
       "      <td>3.0</td>\n",
       "      <td>t</td>\n",
       "      <td>Paredes Municipality, Portugal</td>\n",
       "      <td>...</td>\n",
       "      <td>10.0</td>\n",
       "      <td>10.0</td>\n",
       "      <td>10.0</td>\n",
       "      <td>f</td>\n",
       "      <td>moderate</td>\n",
       "      <td>3</td>\n",
       "      <td>3</td>\n",
       "      <td>0</td>\n",
       "      <td>0</td>\n",
       "      <td>0.26</td>\n",
       "    </tr>\n",
       "    <tr>\n",
       "      <td>3</td>\n",
       "      <td>3</td>\n",
       "      <td>70925</td>\n",
       "      <td>Apartment with the best view of the Porto city...</td>\n",
       "      <td>361205</td>\n",
       "      <td>2011-01-25</td>\n",
       "      <td>Vila Nova de Gaia, Porto District, Portugal</td>\n",
       "      <td>t</td>\n",
       "      <td>2.0</td>\n",
       "      <td>t</td>\n",
       "      <td>Vila Nova de Gaia, Portugal</td>\n",
       "      <td>...</td>\n",
       "      <td>10.0</td>\n",
       "      <td>10.0</td>\n",
       "      <td>10.0</td>\n",
       "      <td>f</td>\n",
       "      <td>strict_14_with_grace_period</td>\n",
       "      <td>2</td>\n",
       "      <td>2</td>\n",
       "      <td>0</td>\n",
       "      <td>0</td>\n",
       "      <td>0.56</td>\n",
       "    </tr>\n",
       "    <tr>\n",
       "      <td>4</td>\n",
       "      <td>4</td>\n",
       "      <td>73828</td>\n",
       "      <td>The first floor in house with shared pool.  Ou...</td>\n",
       "      <td>259711</td>\n",
       "      <td>2010-10-12</td>\n",
       "      <td>Porto, Porto, Portugal</td>\n",
       "      <td>t</td>\n",
       "      <td>3.0</td>\n",
       "      <td>t</td>\n",
       "      <td>Estação, Portugal</td>\n",
       "      <td>...</td>\n",
       "      <td>10.0</td>\n",
       "      <td>10.0</td>\n",
       "      <td>9.0</td>\n",
       "      <td>f</td>\n",
       "      <td>moderate</td>\n",
       "      <td>3</td>\n",
       "      <td>3</td>\n",
       "      <td>0</td>\n",
       "      <td>0</td>\n",
       "      <td>0.14</td>\n",
       "    </tr>\n",
       "  </tbody>\n",
       "</table>\n",
       "<p>5 rows × 38 columns</p>\n",
       "</div>"
      ],
      "text/plain": [
       "   index     id                                              space  host_id  \\\n",
       "0      0  41339  Apartment facing Southeast, with a big bedroom...   180050   \n",
       "1      1  42462  It's the perfect choice for family holidays or...   185492   \n",
       "2      2  55111  The first floor in house with shared pool.  It...   259711   \n",
       "3      3  70925  Apartment with the best view of the Porto city...   361205   \n",
       "4      4  73828  The first floor in house with shared pool.  Ou...   259711   \n",
       "\n",
       "   host_since                                host_location host_is_superhost  \\\n",
       "0  2010-07-25             Oporto, Porto District, Portugal                 f   \n",
       "1  2010-07-30  Vila Nova de Gaia, Porto District, Portugal                 t   \n",
       "2  2010-10-12                       Porto, Porto, Portugal                 t   \n",
       "3  2011-01-25  Vila Nova de Gaia, Porto District, Portugal                 t   \n",
       "4  2010-10-12                       Porto, Porto, Portugal                 t   \n",
       "\n",
       "   host_listings_count host_identity_verified  \\\n",
       "0                 19.0                      t   \n",
       "1                  3.0                      t   \n",
       "2                  3.0                      t   \n",
       "3                  2.0                      t   \n",
       "4                  3.0                      t   \n",
       "\n",
       "                         smart_location  ... review_scores_communication  \\\n",
       "0                       Porto, Portugal  ...                        10.0   \n",
       "1  Vila Nova de Gaia-Palmeira, Portugal  ...                        10.0   \n",
       "2        Paredes Municipality, Portugal  ...                        10.0   \n",
       "3           Vila Nova de Gaia, Portugal  ...                        10.0   \n",
       "4                     Estação, Portugal  ...                        10.0   \n",
       "\n",
       "  review_scores_location  review_scores_value  instant_bookable  \\\n",
       "0                    9.0                  9.0                 t   \n",
       "1                    9.0                  9.0                 t   \n",
       "2                   10.0                 10.0                 f   \n",
       "3                   10.0                 10.0                 f   \n",
       "4                   10.0                  9.0                 f   \n",
       "\n",
       "           cancellation_policy  calculated_host_listings_count  \\\n",
       "0  strict_14_with_grace_period                               1   \n",
       "1  strict_14_with_grace_period                               3   \n",
       "2                     moderate                               3   \n",
       "3  strict_14_with_grace_period                               2   \n",
       "4                     moderate                               3   \n",
       "\n",
       "  calculated_host_listings_count_entire_homes  \\\n",
       "0                                           1   \n",
       "1                                           3   \n",
       "2                                           3   \n",
       "3                                           2   \n",
       "4                                           3   \n",
       "\n",
       "  calculated_host_listings_count_private_rooms  \\\n",
       "0                                            0   \n",
       "1                                            0   \n",
       "2                                            0   \n",
       "3                                            0   \n",
       "4                                            0   \n",
       "\n",
       "   calculated_host_listings_count_shared_rooms  reviews_per_month  \n",
       "0                                            0               0.21  \n",
       "1                                            0               0.46  \n",
       "2                                            0               0.26  \n",
       "3                                            0               0.56  \n",
       "4                                            0               0.14  \n",
       "\n",
       "[5 rows x 38 columns]"
      ]
     },
     "execution_count": 9,
     "metadata": {},
     "output_type": "execute_result"
    }
   ],
   "source": [
    "df1.reset_index(inplace = True)\n",
    "df1.head()"
   ]
  },
  {
   "cell_type": "code",
   "execution_count": 10,
   "metadata": {},
   "outputs": [
    {
     "data": {
      "text/html": [
       "<div>\n",
       "<style scoped>\n",
       "    .dataframe tbody tr th:only-of-type {\n",
       "        vertical-align: middle;\n",
       "    }\n",
       "\n",
       "    .dataframe tbody tr th {\n",
       "        vertical-align: top;\n",
       "    }\n",
       "\n",
       "    .dataframe thead th {\n",
       "        text-align: right;\n",
       "    }\n",
       "</style>\n",
       "<table border=\"1\" class=\"dataframe\">\n",
       "  <thead>\n",
       "    <tr style=\"text-align: right;\">\n",
       "      <th></th>\n",
       "      <th>id</th>\n",
       "      <th>space</th>\n",
       "      <th>host_id</th>\n",
       "      <th>host_since</th>\n",
       "      <th>host_location</th>\n",
       "      <th>host_is_superhost</th>\n",
       "      <th>host_listings_count</th>\n",
       "      <th>host_identity_verified</th>\n",
       "      <th>smart_location</th>\n",
       "      <th>property_type</th>\n",
       "      <th>...</th>\n",
       "      <th>review_scores_communication</th>\n",
       "      <th>review_scores_location</th>\n",
       "      <th>review_scores_value</th>\n",
       "      <th>instant_bookable</th>\n",
       "      <th>cancellation_policy</th>\n",
       "      <th>calculated_host_listings_count</th>\n",
       "      <th>calculated_host_listings_count_entire_homes</th>\n",
       "      <th>calculated_host_listings_count_private_rooms</th>\n",
       "      <th>calculated_host_listings_count_shared_rooms</th>\n",
       "      <th>reviews_per_month</th>\n",
       "    </tr>\n",
       "  </thead>\n",
       "  <tbody>\n",
       "    <tr>\n",
       "      <td>0</td>\n",
       "      <td>41339</td>\n",
       "      <td>Apartment facing Southeast, with a big bedroom...</td>\n",
       "      <td>180050</td>\n",
       "      <td>2010-07-25</td>\n",
       "      <td>Oporto, Porto District, Portugal</td>\n",
       "      <td>f</td>\n",
       "      <td>19.0</td>\n",
       "      <td>t</td>\n",
       "      <td>Porto, Portugal</td>\n",
       "      <td>Apartment</td>\n",
       "      <td>...</td>\n",
       "      <td>10.0</td>\n",
       "      <td>9.0</td>\n",
       "      <td>9.0</td>\n",
       "      <td>t</td>\n",
       "      <td>strict_14_with_grace_period</td>\n",
       "      <td>1</td>\n",
       "      <td>1</td>\n",
       "      <td>0</td>\n",
       "      <td>0</td>\n",
       "      <td>0.21</td>\n",
       "    </tr>\n",
       "    <tr>\n",
       "      <td>1</td>\n",
       "      <td>42462</td>\n",
       "      <td>It's the perfect choice for family holidays or...</td>\n",
       "      <td>185492</td>\n",
       "      <td>2010-07-30</td>\n",
       "      <td>Vila Nova de Gaia, Porto District, Portugal</td>\n",
       "      <td>t</td>\n",
       "      <td>3.0</td>\n",
       "      <td>t</td>\n",
       "      <td>Vila Nova de Gaia-Palmeira, Portugal</td>\n",
       "      <td>Apartment</td>\n",
       "      <td>...</td>\n",
       "      <td>10.0</td>\n",
       "      <td>9.0</td>\n",
       "      <td>9.0</td>\n",
       "      <td>t</td>\n",
       "      <td>strict_14_with_grace_period</td>\n",
       "      <td>3</td>\n",
       "      <td>3</td>\n",
       "      <td>0</td>\n",
       "      <td>0</td>\n",
       "      <td>0.46</td>\n",
       "    </tr>\n",
       "    <tr>\n",
       "      <td>2</td>\n",
       "      <td>55111</td>\n",
       "      <td>The first floor in house with shared pool.  It...</td>\n",
       "      <td>259711</td>\n",
       "      <td>2010-10-12</td>\n",
       "      <td>Porto, Porto, Portugal</td>\n",
       "      <td>t</td>\n",
       "      <td>3.0</td>\n",
       "      <td>t</td>\n",
       "      <td>Paredes Municipality, Portugal</td>\n",
       "      <td>Apartment</td>\n",
       "      <td>...</td>\n",
       "      <td>10.0</td>\n",
       "      <td>10.0</td>\n",
       "      <td>10.0</td>\n",
       "      <td>f</td>\n",
       "      <td>moderate</td>\n",
       "      <td>3</td>\n",
       "      <td>3</td>\n",
       "      <td>0</td>\n",
       "      <td>0</td>\n",
       "      <td>0.26</td>\n",
       "    </tr>\n",
       "    <tr>\n",
       "      <td>3</td>\n",
       "      <td>70925</td>\n",
       "      <td>Apartment with the best view of the Porto city...</td>\n",
       "      <td>361205</td>\n",
       "      <td>2011-01-25</td>\n",
       "      <td>Vila Nova de Gaia, Porto District, Portugal</td>\n",
       "      <td>t</td>\n",
       "      <td>2.0</td>\n",
       "      <td>t</td>\n",
       "      <td>Vila Nova de Gaia, Portugal</td>\n",
       "      <td>Apartment</td>\n",
       "      <td>...</td>\n",
       "      <td>10.0</td>\n",
       "      <td>10.0</td>\n",
       "      <td>10.0</td>\n",
       "      <td>f</td>\n",
       "      <td>strict_14_with_grace_period</td>\n",
       "      <td>2</td>\n",
       "      <td>2</td>\n",
       "      <td>0</td>\n",
       "      <td>0</td>\n",
       "      <td>0.56</td>\n",
       "    </tr>\n",
       "    <tr>\n",
       "      <td>4</td>\n",
       "      <td>73828</td>\n",
       "      <td>The first floor in house with shared pool.  Ou...</td>\n",
       "      <td>259711</td>\n",
       "      <td>2010-10-12</td>\n",
       "      <td>Porto, Porto, Portugal</td>\n",
       "      <td>t</td>\n",
       "      <td>3.0</td>\n",
       "      <td>t</td>\n",
       "      <td>Estação, Portugal</td>\n",
       "      <td>Apartment</td>\n",
       "      <td>...</td>\n",
       "      <td>10.0</td>\n",
       "      <td>10.0</td>\n",
       "      <td>9.0</td>\n",
       "      <td>f</td>\n",
       "      <td>moderate</td>\n",
       "      <td>3</td>\n",
       "      <td>3</td>\n",
       "      <td>0</td>\n",
       "      <td>0</td>\n",
       "      <td>0.14</td>\n",
       "    </tr>\n",
       "  </tbody>\n",
       "</table>\n",
       "<p>5 rows × 37 columns</p>\n",
       "</div>"
      ],
      "text/plain": [
       "      id                                              space  host_id  \\\n",
       "0  41339  Apartment facing Southeast, with a big bedroom...   180050   \n",
       "1  42462  It's the perfect choice for family holidays or...   185492   \n",
       "2  55111  The first floor in house with shared pool.  It...   259711   \n",
       "3  70925  Apartment with the best view of the Porto city...   361205   \n",
       "4  73828  The first floor in house with shared pool.  Ou...   259711   \n",
       "\n",
       "   host_since                                host_location host_is_superhost  \\\n",
       "0  2010-07-25             Oporto, Porto District, Portugal                 f   \n",
       "1  2010-07-30  Vila Nova de Gaia, Porto District, Portugal                 t   \n",
       "2  2010-10-12                       Porto, Porto, Portugal                 t   \n",
       "3  2011-01-25  Vila Nova de Gaia, Porto District, Portugal                 t   \n",
       "4  2010-10-12                       Porto, Porto, Portugal                 t   \n",
       "\n",
       "   host_listings_count host_identity_verified  \\\n",
       "0                 19.0                      t   \n",
       "1                  3.0                      t   \n",
       "2                  3.0                      t   \n",
       "3                  2.0                      t   \n",
       "4                  3.0                      t   \n",
       "\n",
       "                         smart_location property_type  ...  \\\n",
       "0                       Porto, Portugal     Apartment  ...   \n",
       "1  Vila Nova de Gaia-Palmeira, Portugal     Apartment  ...   \n",
       "2        Paredes Municipality, Portugal     Apartment  ...   \n",
       "3           Vila Nova de Gaia, Portugal     Apartment  ...   \n",
       "4                     Estação, Portugal     Apartment  ...   \n",
       "\n",
       "  review_scores_communication  review_scores_location  review_scores_value  \\\n",
       "0                        10.0                     9.0                  9.0   \n",
       "1                        10.0                     9.0                  9.0   \n",
       "2                        10.0                    10.0                 10.0   \n",
       "3                        10.0                    10.0                 10.0   \n",
       "4                        10.0                    10.0                  9.0   \n",
       "\n",
       "   instant_bookable          cancellation_policy  \\\n",
       "0                 t  strict_14_with_grace_period   \n",
       "1                 t  strict_14_with_grace_period   \n",
       "2                 f                     moderate   \n",
       "3                 f  strict_14_with_grace_period   \n",
       "4                 f                     moderate   \n",
       "\n",
       "  calculated_host_listings_count calculated_host_listings_count_entire_homes  \\\n",
       "0                              1                                           1   \n",
       "1                              3                                           3   \n",
       "2                              3                                           3   \n",
       "3                              2                                           2   \n",
       "4                              3                                           3   \n",
       "\n",
       "   calculated_host_listings_count_private_rooms  \\\n",
       "0                                             0   \n",
       "1                                             0   \n",
       "2                                             0   \n",
       "3                                             0   \n",
       "4                                             0   \n",
       "\n",
       "   calculated_host_listings_count_shared_rooms  reviews_per_month  \n",
       "0                                            0               0.21  \n",
       "1                                            0               0.46  \n",
       "2                                            0               0.26  \n",
       "3                                            0               0.56  \n",
       "4                                            0               0.14  \n",
       "\n",
       "[5 rows x 37 columns]"
      ]
     },
     "execution_count": 10,
     "metadata": {},
     "output_type": "execute_result"
    }
   ],
   "source": [
    "df1.drop('index', axis = 1, inplace = True)\n",
    "df1.head()"
   ]
  },
  {
   "cell_type": "code",
   "execution_count": 11,
   "metadata": {},
   "outputs": [
    {
     "name": "stdout",
     "output_type": "stream",
     "text": [
      "True\n",
      "0    58.0\n",
      "1    50.0\n",
      "2    66.0\n",
      "3    97.0\n",
      "4    66.0\n",
      "Name: priceDollar, dtype: float64\n",
      "float64\n"
     ]
    },
    {
     "name": "stderr",
     "output_type": "stream",
     "text": [
      "C:\\Users\\d store\\Anaconda3\\lib\\site-packages\\ipykernel_launcher.py:13: SettingWithCopyWarning: \n",
      "A value is trying to be set on a copy of a slice from a DataFrame.\n",
      "Try using .loc[row_indexer,col_indexer] = value instead\n",
      "\n",
      "See the caveats in the documentation: http://pandas.pydata.org/pandas-docs/stable/user_guide/indexing.html#returning-a-view-versus-a-copy\n",
      "  del sys.path[0]\n"
     ]
    }
   ],
   "source": [
    "# Use this cell to write the necessary code to perform Task #4\n",
    "\n",
    "dollar_list = []\n",
    "\n",
    "for i in df1['price'].tolist():\n",
    "    \n",
    "    dollar_list.append(float(i[1:]))\n",
    "    \n",
    "    \n",
    "print(len(df1['price']) == len(dollar_list))\n",
    "\n",
    "\n",
    "df1['priceDollar'] = dollar_list\n",
    "\n",
    "print(df1['priceDollar'].head())\n",
    "\n",
    "print(df1['priceDollar'].dtype)"
   ]
  },
  {
   "cell_type": "markdown",
   "metadata": {},
   "source": [
    "<b> Task #5 </b><br>\n",
    "Create a new column priceEuro using a conversion rate of 1 Dollar = 0.9 Euro."
   ]
  },
  {
   "cell_type": "code",
   "execution_count": 12,
   "metadata": {},
   "outputs": [
    {
     "name": "stderr",
     "output_type": "stream",
     "text": [
      "C:\\Users\\d store\\Anaconda3\\lib\\site-packages\\ipykernel_launcher.py:11: SettingWithCopyWarning: \n",
      "A value is trying to be set on a copy of a slice from a DataFrame.\n",
      "Try using .loc[row_indexer,col_indexer] = value instead\n",
      "\n",
      "See the caveats in the documentation: http://pandas.pydata.org/pandas-docs/stable/user_guide/indexing.html#returning-a-view-versus-a-copy\n",
      "  # This is added back by InteractiveShellApp.init_path()\n"
     ]
    },
    {
     "data": {
      "text/plain": [
       "0    52.2\n",
       "1    45.0\n",
       "2    59.4\n",
       "3    87.3\n",
       "4    59.4\n",
       "Name: priceEuro, dtype: float64"
      ]
     },
     "execution_count": 12,
     "metadata": {},
     "output_type": "execute_result"
    }
   ],
   "source": [
    "# Use this cell to write the necessary code to perform Task #5\n",
    "\n",
    "Euro_list = []\n",
    "\n",
    "for i in df1['priceDollar'].tolist():\n",
    "    \n",
    "    Euo_conversion = i * 0.9\n",
    "    \n",
    "    Euro_list.append(round(Euo_conversion, 2))\n",
    "    \n",
    "df1['priceEuro'] = Euro_list\n",
    "\n",
    "df1['priceEuro'].head()    \n",
    "    "
   ]
  },
  {
   "cell_type": "markdown",
   "metadata": {},
   "source": [
    "Answer:"
   ]
  },
  {
   "cell_type": "markdown",
   "metadata": {},
   "source": [
    "<b> Task #6 </b><br>\n",
    "Analyze the priceEuro feature. Calculate the lower and upper bounds for potential outliers using the three methods: Percentiles, Tukey’s fence, and Standard deviation.\n",
    "\n",
    "Which limits do you suggest to use and why?"
   ]
  },
  {
   "cell_type": "code",
   "execution_count": 13,
   "metadata": {},
   "outputs": [
    {
     "name": "stdout",
     "output_type": "stream",
     "text": [
      "191\n",
      "829\n"
     ]
    }
   ],
   "source": [
    "# Use this cell to write the necessary code to perform Task #6\n",
    "\n",
    "# 1- Standard deviation method\n",
    "\n",
    "# calculate summary statistics\n",
    "data_mean, data_std = np.mean(df1['priceEuro']), np.std(df1['priceEuro'])\n",
    "\n",
    "# identify outliers\n",
    "cut_off = data_std * 3\n",
    "lower, upper = data_mean - cut_off, data_mean + cut_off\n",
    "\n",
    "# identify outliers\n",
    "outliers_by_std = [x for x in df1['priceEuro'] if x < lower or x > upper]\n",
    "\n",
    "\n",
    "# 2- Percentile Method\n",
    "\n",
    "# calculate interquartile range\n",
    "q25, q75 = np.percentile(df1['priceEuro'], 25), np.percentile(df1['priceEuro'], 75)\n",
    "iqr = q75 - q25\n",
    "\n",
    "# calculate the outlier cutoff\n",
    "cut_off = iqr * 1.5\n",
    "lower, upper = q25 - cut_off, q75 + cut_off\n",
    "\n",
    "# identify outliers\n",
    "outliers_by_perc = [x for x in df1['priceEuro'] if x < lower or x > upper]\n",
    "\n",
    "\n",
    "print(len(outliers_by_std))\n",
    "print(len(outliers_by_perc))\n"
   ]
  },
  {
   "cell_type": "markdown",
   "metadata": {},
   "source": [
    "Answer: I suggest percentile method, because It works on IQR and find most pottential outliers."
   ]
  },
  {
   "cell_type": "markdown",
   "metadata": {
    "scrolled": true
   },
   "source": [
    "<b> Task #7 </b><br>\n",
    "Plot a histogram of the priceEuro column for all prices >= 10 EUR and <= 400 EUR."
   ]
  },
  {
   "cell_type": "code",
   "execution_count": 14,
   "metadata": {},
   "outputs": [
    {
     "data": {
      "text/html": [
       "<div>\n",
       "<style scoped>\n",
       "    .dataframe tbody tr th:only-of-type {\n",
       "        vertical-align: middle;\n",
       "    }\n",
       "\n",
       "    .dataframe tbody tr th {\n",
       "        vertical-align: top;\n",
       "    }\n",
       "\n",
       "    .dataframe thead th {\n",
       "        text-align: right;\n",
       "    }\n",
       "</style>\n",
       "<table border=\"1\" class=\"dataframe\">\n",
       "  <thead>\n",
       "    <tr style=\"text-align: right;\">\n",
       "      <th></th>\n",
       "      <th>priceEuro</th>\n",
       "    </tr>\n",
       "  </thead>\n",
       "  <tbody>\n",
       "    <tr>\n",
       "      <td>0</td>\n",
       "      <td>52.2</td>\n",
       "    </tr>\n",
       "    <tr>\n",
       "      <td>1</td>\n",
       "      <td>45.0</td>\n",
       "    </tr>\n",
       "    <tr>\n",
       "      <td>2</td>\n",
       "      <td>59.4</td>\n",
       "    </tr>\n",
       "    <tr>\n",
       "      <td>3</td>\n",
       "      <td>87.3</td>\n",
       "    </tr>\n",
       "    <tr>\n",
       "      <td>4</td>\n",
       "      <td>59.4</td>\n",
       "    </tr>\n",
       "    <tr>\n",
       "      <td>...</td>\n",
       "      <td>...</td>\n",
       "    </tr>\n",
       "    <tr>\n",
       "      <td>11598</td>\n",
       "      <td>90.0</td>\n",
       "    </tr>\n",
       "    <tr>\n",
       "      <td>11599</td>\n",
       "      <td>85.5</td>\n",
       "    </tr>\n",
       "    <tr>\n",
       "      <td>11600</td>\n",
       "      <td>90.0</td>\n",
       "    </tr>\n",
       "    <tr>\n",
       "      <td>11601</td>\n",
       "      <td>40.5</td>\n",
       "    </tr>\n",
       "    <tr>\n",
       "      <td>11602</td>\n",
       "      <td>109.8</td>\n",
       "    </tr>\n",
       "  </tbody>\n",
       "</table>\n",
       "<p>11479 rows × 1 columns</p>\n",
       "</div>"
      ],
      "text/plain": [
       "       priceEuro\n",
       "0           52.2\n",
       "1           45.0\n",
       "2           59.4\n",
       "3           87.3\n",
       "4           59.4\n",
       "...          ...\n",
       "11598       90.0\n",
       "11599       85.5\n",
       "11600       90.0\n",
       "11601       40.5\n",
       "11602      109.8\n",
       "\n",
       "[11479 rows x 1 columns]"
      ]
     },
     "execution_count": 14,
     "metadata": {},
     "output_type": "execute_result"
    }
   ],
   "source": [
    "df_price_euro = df1['priceEuro'].to_frame()\n",
    "df_price_euro1 = df_price_euro[(df_price_euro['priceEuro'] >=10) & (df_price_euro['priceEuro'] <=400)]\n",
    "df_price_euro1"
   ]
  },
  {
   "cell_type": "code",
   "execution_count": 15,
   "metadata": {},
   "outputs": [],
   "source": [
    "# now we write func to create hist\n",
    "\n",
    "def create_hist(hist,bin_edges):\n",
    "    \n",
    "    plt.figure(figsize=[12,10])\n",
    "\n",
    "    plt.bar(bin_edges[:-1], hist, width = 5, color='#0504aa',alpha=0.7)\n",
    "    plt.xlim(min(bin_edges), max(bin_edges))\n",
    "    plt.grid(axis='y', alpha=0.75)\n",
    "    plt.xlabel('priceEuro',fontsize=15)\n",
    "    plt.ylabel('Frequency',fontsize=15)\n",
    "    plt.xticks(fontsize=15)\n",
    "    plt.yticks(fontsize=15)\n",
    "    plt.ylabel('Frequency',fontsize=15)\n",
    "    plt.title('Normal Distribution Histogram',fontsize=15)\n",
    "    plt.show()\n",
    "    "
   ]
  },
  {
   "cell_type": "code",
   "execution_count": 16,
   "metadata": {
    "scrolled": false
   },
   "outputs": [
    {
     "data": {
      "image/png": "[encoded data removed]",
      "text/plain": [
       "<Figure size 864x720 with 1 Axes>"
      ]
     },
     "metadata": {
      "needs_background": "light"
     },
     "output_type": "display_data"
    }
   ],
   "source": [
    "# Use this cell to write the necessary code to perform Task #7\n",
    "\n",
    "hist,bin_edges = np.histogram(df_price_euro1['priceEuro'])\n",
    "bin_edges = np.round(bin_edges,0)\n",
    "create_hist(hist,bin_edges)\n"
   ]
  },
  {
   "cell_type": "code",
   "execution_count": 24,
   "metadata": {},
   "outputs": [
    {
     "data": {
      "text/plain": [
       "<matplotlib.axes._subplots.AxesSubplot at 0xa874b4d860>"
      ]
     },
     "execution_count": 24,
     "metadata": {},
     "output_type": "execute_result"
    },
    {
     "data": {
      "image/png": "[encoded data removed]",
      "text/plain": [
       "<Figure size 432x288 with 1 Axes>"
      ]
     },
     "metadata": {
      "needs_background": "light"
     },
     "output_type": "display_data"
    }
   ],
   "source": [
    "# Density Plot and Histogram of all arrival delays\n",
    "sns.distplot(df_price_euro1['priceEuro'], hist=True, kde=True, \n",
    "             color = 'darkblue', \n",
    "             hist_kws={'edgecolor':'black'},\n",
    "             kde_kws={'linewidth': 4})"
   ]
  },
  {
   "cell_type": "markdown",
   "metadata": {},
   "source": [
    "Answer:"
   ]
  },
  {
   "cell_type": "markdown",
   "metadata": {},
   "source": [
    "<b> Task #8 </b><br>\n",
    "Describe the distribution of the data, using the metrics you find more reasonable. Explain your choice."
   ]
  },
  {
   "cell_type": "code",
   "execution_count": 17,
   "metadata": {},
   "outputs": [
    {
     "name": "stdout",
     "output_type": "stream",
     "text": [
      "Mean: 63.89\n",
      "Median: 54.0\n"
     ]
    }
   ],
   "source": [
    "# find mean & median \n",
    "\n",
    "print(\"Mean: \"+str(round(df_price_euro1['priceEuro'].mean(),2)))\n",
    "print(\"Median: \"+str(df_price_euro1['priceEuro'].median()))"
   ]
  },
  {
   "cell_type": "code",
   "execution_count": 18,
   "metadata": {},
   "outputs": [
    {
     "name": "stdout",
     "output_type": "stream",
     "text": [
      "Range: 376.2\n",
      "IQR: 38.7\n"
     ]
    }
   ],
   "source": [
    "# find range and IQR\n",
    "\n",
    "print(\"Range: \"+str(df_price_euro1['priceEuro'].max() - df_price_euro1['priceEuro'].min()))\n",
    "q25, q75 = percentile(df_price_euro1['priceEuro'], 25), percentile(df_price_euro1['priceEuro'], 75)\n",
    "iqr = q75 - q25\n",
    "print(\"IQR: \"+str(iqr))"
   ]
  },
  {
   "cell_type": "code",
   "execution_count": 19,
   "metadata": {},
   "outputs": [
    {
     "name": "stdout",
     "output_type": "stream",
     "text": [
      "Standard deviation: 42.76\n"
     ]
    }
   ],
   "source": [
    "print(\"Standard deviation: \"+str(round(df_price_euro1['priceEuro'].std(), 2)))"
   ]
  },
  {
   "cell_type": "markdown",
   "metadata": {},
   "source": [
    "### Explanation\n",
    "\n",
    "<b>1- Shape: </b>Since the above histogram contain long tail on right side, so it is right skewed. And there is only one trend from left to right, so it is unimomodal\n",
    "\n",
    "\n",
    "<b> 2- Center: </b>We'll calculate median to find center of data just because the data is skewed and the median is less affected by outliers and skewed data.\n",
    "\n",
    "<b> 3- Range: </b>Since the above dataset is skewed, so we use IQR as a range of normal data values. Quartiles are a useful measure of spread for skewed data set.\n",
    "\n",
    "<b> 4- Spread: </b> We'll use Standard deviation to calculate measure of spread in the data.\n",
    "\n"
   ]
  },
  {
   "cell_type": "markdown",
   "metadata": {},
   "source": [
    "<b> Task #9 </b><br>\n",
    "Note: A common trick to handle currency variables is to work with the Log transform. In that sense, we will have to handle values that are equal to 0 (the log of 0 is not defined). A trick is to sum 1 to all entries and do the log. For instance, log(price+1). The +1 one will avoid problems carried by the definition of the log.\n",
    "\n",
    "Apply the Log transformation for values between 10 and 400, and store it in a new feature called \"logPriceEuro\".\n",
    "Plot the histogram of the logPriceEuro values.\n",
    "\n",
    "What do you conclude from the transformation?\n",
    "\n",
    "Test the distribution of the logPriceEuro for normality. Consider using both the q-q plots and the Kolmogorv-Smirnov test.\n",
    "\n",
    "Interpret the results of both tests plus the histogram with regards to the normality of the data.\n",
    "\n",
    "In your opinion, should we consider the logaritmically transformed variable as opposed to the original?"
   ]
  },
  {
   "cell_type": "code",
   "execution_count": 20,
   "metadata": {},
   "outputs": [
    {
     "data": {
      "text/plain": [
       "11479"
      ]
     },
     "execution_count": 20,
     "metadata": {},
     "output_type": "execute_result"
    }
   ],
   "source": [
    "df_10_to_400 = df1[(df1['priceEuro'] >=10) & (df1['priceEuro'] <=400)]\n",
    "len(df_10_to_400)"
   ]
  },
  {
   "cell_type": "code",
   "execution_count": 21,
   "metadata": {},
   "outputs": [
    {
     "name": "stderr",
     "output_type": "stream",
     "text": [
      "C:\\Users\\d store\\Anaconda3\\lib\\site-packages\\ipykernel_launcher.py:1: SettingWithCopyWarning: \n",
      "A value is trying to be set on a copy of a slice from a DataFrame.\n",
      "Try using .loc[row_indexer,col_indexer] = value instead\n",
      "\n",
      "See the caveats in the documentation: http://pandas.pydata.org/pandas-docs/stable/user_guide/indexing.html#returning-a-view-versus-a-copy\n",
      "  \"\"\"Entry point for launching an IPython kernel.\n"
     ]
    },
    {
     "data": {
      "text/plain": [
       "0    3.974058\n",
       "1    3.828641\n",
       "2    4.100989\n",
       "3    4.480740\n",
       "4    4.100989\n",
       "Name: logPriceEuro, dtype: float64"
      ]
     },
     "execution_count": 21,
     "metadata": {},
     "output_type": "execute_result"
    }
   ],
   "source": [
    "df_10_to_400['logPriceEuro'] = np.log(df_price_euro1['priceEuro']+1)\n",
    "df_10_to_400['logPriceEuro'].head()"
   ]
  },
  {
   "cell_type": "code",
   "execution_count": 22,
   "metadata": {},
   "outputs": [
    {
     "data": {
      "image/png": "[encoded data removed]",
      "text/plain": [
       "<Figure size 864x720 with 1 Axes>"
      ]
     },
     "metadata": {
      "needs_background": "light"
     },
     "output_type": "display_data"
    }
   ],
   "source": [
    "# Use this cell to write the necessary code to create the log + 1 transform and plot it's histogram #9\n",
    "\n",
    "hist,bin_edges = np.histogram(df_10_to_400['logPriceEuro'])\n",
    "\n",
    "plt.figure(figsize=[12,10])\n",
    "\n",
    "plt.bar(bin_edges[:-1], hist, width = 0.3, color='#0504aa',alpha=0.7)\n",
    "plt.xlim(min(bin_edges), max(bin_edges))\n",
    "plt.grid(axis='y', alpha=0.75)\n",
    "plt.xlabel('priceEuro',fontsize=15)\n",
    "plt.ylabel('Frequency',fontsize=15)\n",
    "plt.xticks(fontsize=15)\n",
    "plt.yticks(fontsize=15)\n",
    "plt.ylabel('Frequency',fontsize=15)\n",
    "plt.title('Normal Distribution Histogram',fontsize=15)\n",
    "plt.show()\n"
   ]
  },
  {
   "cell_type": "code",
   "execution_count": 23,
   "metadata": {},
   "outputs": [
    {
     "data": {
      "text/plain": [
       "<matplotlib.axes._subplots.AxesSubplot at 0xa874285d30>"
      ]
     },
     "execution_count": 23,
     "metadata": {},
     "output_type": "execute_result"
    },
    {
     "data": {
      "image/png": "[encoded data removed]",
      "text/plain": [
       "<Figure size 432x288 with 1 Axes>"
      ]
     },
     "metadata": {
      "needs_background": "light"
     },
     "output_type": "display_data"
    }
   ],
   "source": [
    "# Density Plot and Histogram of all arrival delays\n",
    "sns.distplot(df_10_to_400['logPriceEuro'], hist=True, kde=True, \n",
    "             color = 'darkblue', \n",
    "             hist_kws={'edgecolor':'black'},\n",
    "             kde_kws={'linewidth': 4})"
   ]
  },
  {
   "cell_type": "markdown",
   "metadata": {},
   "source": [
    "<b> What do you conclude from the transformation?</b><br>\n",
    "\n",
    "The distribution become symmetric(uniform) after log transformation."
   ]
  },
  {
   "cell_type": "code",
   "execution_count": 110,
   "metadata": {},
   "outputs": [
    {
     "data": {
      "image/png": "[encoded data removed]",
      "text/plain": [
       "<Figure size 432x288 with 1 Axes>"
      ]
     },
     "metadata": {
      "needs_background": "light"
     },
     "output_type": "display_data"
    }
   ],
   "source": [
    "# Use this cell to write the necessary code to perform the q-q plot for Task #9\n",
    "\n",
    "sm.qqplot(df_10_to_400['logPriceEuro'], line='45')\n",
    "pylab.show()"
   ]
  },
  {
   "cell_type": "code",
   "execution_count": 112,
   "metadata": {},
   "outputs": [
    {
     "data": {
      "text/plain": [
       "KstestResult(statistic=0.9932083727404929, pvalue=0.0)"
      ]
     },
     "execution_count": 112,
     "metadata": {},
     "output_type": "execute_result"
    }
   ],
   "source": [
    "# Use this cell to write the necessary code to perform the Kolmogorov-Smirnov test for normality Task #9\n",
    "\n",
    "from scipy import stats\n",
    "\n",
    "ks_test = stats.kstest(df_10_to_400['logPriceEuro'].tolist(), 'norm')\n",
    "ks_test"
   ]
  },
  {
   "cell_type": "markdown",
   "metadata": {},
   "source": [
    "Interpretation of tests: It is important to note the the distributional assumptions are always about the error process not the observed Y thus it is a definite \"no-no\" to analyze the original series for an appropriate transformation unless the series is defined by a simple constant. So we 'll consider the log transformation variable as opposed to actual variable."
   ]
  },
  {
   "cell_type": "markdown",
   "metadata": {},
   "source": [
    "Answer:"
   ]
  },
  {
   "cell_type": "markdown",
   "metadata": {},
   "source": [
    "<b> Task #10 </b><br>\n",
    "Now calculate the fraction of hosts (each host is defined unquely by the host_id) in Porto that have 2 or more listings in Porto (divided by the total number of hosts in Porto)."
   ]
  },
  {
   "cell_type": "code",
   "execution_count": 185,
   "metadata": {},
   "outputs": [
    {
     "name": "stdout",
     "output_type": "stream",
     "text": [
      "Fraction: 0.05\n"
     ]
    }
   ],
   "source": [
    "# Use this cell to write the necessary code to perform Task #10\n",
    "\n",
    "frac = len(df1[df1['host_location'] == 'Porto, Porto, Portugal'])/ len(set(df1['host_id']))\n",
    "print(\"Fraction: \"+str(round(frac, 2)))"
   ]
  },
  {
   "cell_type": "markdown",
   "metadata": {},
   "source": [
    "Answer:"
   ]
  },
  {
   "cell_type": "markdown",
   "metadata": {},
   "source": [
    "<b> Task #11 </b><br>\n",
    "Manipulate the smart_location attribute to create a column with the name of the region of the listing. Split the smart_location string by comma and get the first element. Save this as a new column named location."
   ]
  },
  {
   "cell_type": "code",
   "execution_count": 123,
   "metadata": {},
   "outputs": [
    {
     "name": "stdout",
     "output_type": "stream",
     "text": [
      "['Porto', 'Vila Nova de Gaia-Palmeira', 'Paredes Municipality', 'Vila Nova de Gaia', 'Estação']\n",
      "0                         Porto\n",
      "1    Vila Nova de Gaia-Palmeira\n",
      "2          Paredes Municipality\n",
      "3             Vila Nova de Gaia\n",
      "4                       Estação\n",
      "Name: location, dtype: object\n"
     ]
    },
    {
     "name": "stderr",
     "output_type": "stream",
     "text": [
      "C:\\Users\\d store\\Anaconda3\\lib\\site-packages\\ipykernel_launcher.py:11: SettingWithCopyWarning: \n",
      "A value is trying to be set on a copy of a slice from a DataFrame.\n",
      "Try using .loc[row_indexer,col_indexer] = value instead\n",
      "\n",
      "See the caveats in the documentation: http://pandas.pydata.org/pandas-docs/stable/user_guide/indexing.html#returning-a-view-versus-a-copy\n",
      "  # This is added back by InteractiveShellApp.init_path()\n"
     ]
    }
   ],
   "source": [
    "region = []\n",
    "\n",
    "for i in df1['smart_location']:\n",
    "    \n",
    "    name = i.split(',')\n",
    "    region.append(name[0])\n",
    "    name = []\n",
    "    \n",
    "print(region[:5])\n",
    "\n",
    "df1['location'] = region\n",
    "\n",
    "print(df1['location'].head())"
   ]
  },
  {
   "cell_type": "markdown",
   "metadata": {},
   "source": [
    "<b> Task #12 </b><br>\n",
    "What are the 10 most common amenities?\n",
    "\n",
    "You may assume that each observation does not have repeated amenities and they are separated by a comma.\n"
   ]
  },
  {
   "cell_type": "code",
   "execution_count": 281,
   "metadata": {},
   "outputs": [
    {
     "data": {
      "text/plain": [
       "297207"
      ]
     },
     "execution_count": 281,
     "metadata": {},
     "output_type": "execute_result"
    }
   ],
   "source": [
    "# make a list of amenities and put all amenities items in that list\n",
    "\n",
    "amens_list = []\n",
    "\n",
    "for i in df1['amenities']:\n",
    "    \n",
    "    amens = i.split(\",\")\n",
    "    \n",
    "    for j in amens:\n",
    "        \n",
    "        amens_list.append(j)\n",
    "        \n",
    "len(amens_list)"
   ]
  },
  {
   "cell_type": "code",
   "execution_count": 285,
   "metadata": {},
   "outputs": [
    {
     "data": {
      "text/plain": [
       "Essentials             11152\n",
       "Kitchen                10552\n",
       "Wifi                   10171\n",
       "{TV                    10141\n",
       "Hangers                 9960\n",
       "\"Hair dryer\"            9742\n",
       "\"Fire extinguisher\"     9028\n",
       "\"First aid kit\"         8869\n",
       "Iron                    8126\n",
       "Shampoo                 7946\n",
       "dtype: int64"
      ]
     },
     "execution_count": 285,
     "metadata": {},
     "output_type": "execute_result"
    }
   ],
   "source": [
    "amenities_series = pd.Series(amens_list) # convert list into series \n",
    "amenities_series.value_counts().head(10) # 10 most common amenities with their count "
   ]
  },
  {
   "cell_type": "markdown",
   "metadata": {},
   "source": [
    "<b> Task #13 </b><br>\n",
    "\n",
    "Create the following dummy columns from the ammenities:\n",
    "\n",
    "tv if 'TV' in ammenities<br>\n",
    "wifi if 'Wifi' in ammenities<br>\n",
    "fridge if 'Refrigerator' in ammenities<br>\n",
    "hostGreets if '\"Host greets you\"' in ammenities<br>\n",
    "longTerm if '\"Long term stays allowed\"' in ammenities<br>\n",
    "heating if 'Heating' in ammenities<br>\n",
    "\n",
    "Explain how you created the dummies."
   ]
  },
  {
   "cell_type": "code",
   "execution_count": 174,
   "metadata": {},
   "outputs": [
    {
     "name": "stdout",
     "output_type": "stream",
     "text": [
      "Before creating dummies:\n",
      "\n",
      "\n",
      "0    1\n",
      "1    1\n",
      "2    1\n",
      "3    1\n",
      "4    1\n",
      "Name: tv, dtype: int64\n",
      "After creating dummies:\n",
      "\n",
      "\n",
      "0    TV\n",
      "1    TV\n",
      "2    TV\n",
      "3    TV\n",
      "4    TV\n",
      "Name: tv, dtype: object\n"
     ]
    }
   ],
   "source": [
    "print(\"Before creating dummies:\\n\\n\")\n",
    "print(df2['tv'].head())\n",
    "list1 = []\n",
    "\n",
    "for i in df2['tv']:\n",
    "    \n",
    "    if i == 1:\n",
    "        \n",
    "        list1.append('TV')\n",
    "        \n",
    "    else:\n",
    "        \n",
    "        list1.append('No TV')\n",
    "        \n",
    "df2.drop('tv', axis = 1, inplace = True)\n",
    "df2['tv'] = list1\n",
    "\n",
    "print(\"After creating dummies:\\n\\n\")\n",
    "print(df2['tv'].head())\n"
   ]
  },
  {
   "cell_type": "code",
   "execution_count": 176,
   "metadata": {},
   "outputs": [
    {
     "name": "stdout",
     "output_type": "stream",
     "text": [
      "Before creating dummies:\n",
      "\n",
      "\n",
      "0    1\n",
      "1    1\n",
      "2    1\n",
      "3    1\n",
      "4    1\n",
      "Name: wifi, dtype: int64\n",
      "After creating dummies:\n",
      "\n",
      "\n",
      "0    Wifi\n",
      "1    Wifi\n",
      "2    Wifi\n",
      "3    Wifi\n",
      "4    Wifi\n",
      "Name: wifi, dtype: object\n"
     ]
    }
   ],
   "source": [
    "print(\"Before creating dummies:\\n\\n\")\n",
    "print(df2['wifi'].head())\n",
    "list1 = []\n",
    "\n",
    "for i in df2['wifi']:\n",
    "    \n",
    "    if i == 1:\n",
    "        \n",
    "        list1.append('Wifi')\n",
    "        \n",
    "    else:\n",
    "        \n",
    "        list1.append('No Wifi')\n",
    "        \n",
    "df2.drop('wifi', axis = 1, inplace = True)\n",
    "df2['wifi'] = list1\n",
    "\n",
    "print(\"After creating dummies:\\n\\n\")\n",
    "print(df2['wifi'].head())\n"
   ]
  },
  {
   "cell_type": "code",
   "execution_count": 178,
   "metadata": {},
   "outputs": [
    {
     "name": "stdout",
     "output_type": "stream",
     "text": [
      "Before creating dummies:\n",
      "\n",
      "\n",
      "0    1\n",
      "1    0\n",
      "2    1\n",
      "3    1\n",
      "4    1\n",
      "Name: fridge, dtype: int64\n",
      "After creating dummies:\n",
      "\n",
      "\n",
      "0       Refrigrator\n",
      "1    No Refrigrator\n",
      "2       Refrigrator\n",
      "3       Refrigrator\n",
      "4       Refrigrator\n",
      "Name: fridge, dtype: object\n"
     ]
    }
   ],
   "source": [
    "print(\"Before creating dummies:\\n\\n\")\n",
    "print(df2['fridge'].head())\n",
    "list1 = []\n",
    "\n",
    "for i in df2['fridge']:\n",
    "    \n",
    "    if i == 1:\n",
    "        \n",
    "        list1.append('Refrigrator')\n",
    "        \n",
    "    else:\n",
    "        \n",
    "        list1.append('No Refrigrator')\n",
    "        \n",
    "df2.drop('fridge', axis = 1, inplace = True)\n",
    "df2['fridge'] = list1\n",
    "\n",
    "print(\"After creating dummies:\\n\\n\")\n",
    "print(df2['fridge'].head())\n"
   ]
  },
  {
   "cell_type": "code",
   "execution_count": 180,
   "metadata": {},
   "outputs": [
    {
     "name": "stdout",
     "output_type": "stream",
     "text": [
      "Before creating dummies:\n",
      "\n",
      "\n",
      "0    1\n",
      "1    1\n",
      "2    1\n",
      "3    1\n",
      "4    1\n",
      "Name: hostGreets, dtype: int64\n",
      "After creating dummies:\n",
      "\n",
      "\n",
      "0    Host greets you\n",
      "1    Host greets you\n",
      "2    Host greets you\n",
      "3    Host greets you\n",
      "4    Host greets you\n",
      "Name: hostGreets, dtype: object\n"
     ]
    }
   ],
   "source": [
    "print(\"Before creating dummies:\\n\\n\")\n",
    "print(df2['hostGreets'].head())\n",
    "list1 = []\n",
    "\n",
    "for i in df2['hostGreets']:\n",
    "    \n",
    "    if i == 1:\n",
    "        \n",
    "        list1.append('Host greets you')\n",
    "        \n",
    "    else:\n",
    "        \n",
    "        list1.append('Host does not greet you')\n",
    "        \n",
    "df2.drop('hostGreets', axis = 1, inplace = True)\n",
    "df2['hostGreets'] = list1\n",
    "\n",
    "print(\"After creating dummies:\\n\\n\")\n",
    "print(df2['hostGreets'].head())"
   ]
  },
  {
   "cell_type": "code",
   "execution_count": 182,
   "metadata": {},
   "outputs": [
    {
     "name": "stdout",
     "output_type": "stream",
     "text": [
      "Before creating dummies:\n",
      "\n",
      "\n",
      "0    1\n",
      "1    1\n",
      "2    0\n",
      "3    0\n",
      "4    0\n",
      "Name: longTerm, dtype: int64\n",
      "After creating dummies:\n",
      "\n",
      "\n",
      "0           Long term stays allowed\n",
      "1           Long term stays allowed\n",
      "2    Long term stays is not allowed\n",
      "3    Long term stays is not allowed\n",
      "4    Long term stays is not allowed\n",
      "Name: longTerm, dtype: object\n"
     ]
    }
   ],
   "source": [
    "print(\"Before creating dummies:\\n\\n\")\n",
    "print(df2['longTerm'].head())\n",
    "list1 = []\n",
    "\n",
    "for i in df2['longTerm']:\n",
    "    \n",
    "    if i == 1:\n",
    "        \n",
    "        list1.append('Long term stays allowed')\n",
    "        \n",
    "    else:\n",
    "        \n",
    "        list1.append('Long term stays is not allowed')\n",
    "        \n",
    "df2.drop('longTerm', axis = 1, inplace = True)\n",
    "df2['longTerm'] = list1\n",
    "\n",
    "print(\"After creating dummies:\\n\\n\")\n",
    "print(df2['longTerm'].head())"
   ]
  },
  {
   "cell_type": "code",
   "execution_count": 184,
   "metadata": {},
   "outputs": [
    {
     "name": "stdout",
     "output_type": "stream",
     "text": [
      "Before creating dummies:\n",
      "\n",
      "\n",
      "0    0\n",
      "1    1\n",
      "2    0\n",
      "3    0\n",
      "4    0\n",
      "Name: heating, dtype: int64\n",
      "After creating dummies:\n",
      "\n",
      "\n",
      "0    No heating\n",
      "1       Heating\n",
      "2    No heating\n",
      "3    No heating\n",
      "4    No heating\n",
      "Name: heating, dtype: object\n"
     ]
    }
   ],
   "source": [
    "print(\"Before creating dummies:\\n\\n\")\n",
    "print(df2['heating'].head())\n",
    "list1 = []\n",
    "\n",
    "for i in df2['heating']:\n",
    "    \n",
    "    if i == 1:\n",
    "        \n",
    "        list1.append('Heating')\n",
    "        \n",
    "    else:\n",
    "        \n",
    "        list1.append('No heating')\n",
    "        \n",
    "df2.drop('heating', axis = 1, inplace = True)\n",
    "df2['heating'] = list1\n",
    "\n",
    "print(\"After creating dummies:\\n\\n\")\n",
    "print(df2['heating'].head())"
   ]
  },
  {
   "cell_type": "markdown",
   "metadata": {},
   "source": [
    "Answer: We created dummy columns by using for loop and if statement."
   ]
  },
  {
   "cell_type": "markdown",
   "metadata": {},
   "source": [
    "## Data Analysis\n",
    "\n",
    "In this section you will implement some statistical tests to look for insighst and then develop a model to predict the price of a listing.\n",
    "\n",
    "We will start by loading a dataset name part2.csv which you will use for the next tasks.\n",
    "\n",
    "Note that we only kept prices between 10 and 400 EUR."
   ]
  },
  {
   "cell_type": "markdown",
   "metadata": {},
   "source": [
    "<b> Task #14 </b><br>\n",
    "Import the part2.csv dataset which includes all the manipulation done in the previous part."
   ]
  },
  {
   "cell_type": "code",
   "execution_count": 146,
   "metadata": {},
   "outputs": [
    {
     "data": {
      "text/html": [
       "<div>\n",
       "<style scoped>\n",
       "    .dataframe tbody tr th:only-of-type {\n",
       "        vertical-align: middle;\n",
       "    }\n",
       "\n",
       "    .dataframe tbody tr th {\n",
       "        vertical-align: top;\n",
       "    }\n",
       "\n",
       "    .dataframe thead th {\n",
       "        text-align: right;\n",
       "    }\n",
       "</style>\n",
       "<table border=\"1\" class=\"dataframe\">\n",
       "  <thead>\n",
       "    <tr style=\"text-align: right;\">\n",
       "      <th></th>\n",
       "      <th>id</th>\n",
       "      <th>listing_url</th>\n",
       "      <th>space</th>\n",
       "      <th>host_id</th>\n",
       "      <th>host_since</th>\n",
       "      <th>host_location</th>\n",
       "      <th>host_is_superhost</th>\n",
       "      <th>host_listings_count</th>\n",
       "      <th>host_identity_verified</th>\n",
       "      <th>smart_location</th>\n",
       "      <th>...</th>\n",
       "      <th>priceDollar</th>\n",
       "      <th>priceEuro</th>\n",
       "      <th>location</th>\n",
       "      <th>essentials</th>\n",
       "      <th>tv</th>\n",
       "      <th>wifi</th>\n",
       "      <th>fridge</th>\n",
       "      <th>hostGreets</th>\n",
       "      <th>longTerm</th>\n",
       "      <th>heating</th>\n",
       "    </tr>\n",
       "  </thead>\n",
       "  <tbody>\n",
       "    <tr>\n",
       "      <td>0</td>\n",
       "      <td>41339</td>\n",
       "      <td>https://www.airbnb.com/rooms/41339</td>\n",
       "      <td>Apartment facing Southeast, with a big bedroom...</td>\n",
       "      <td>180050</td>\n",
       "      <td>7/25/2010</td>\n",
       "      <td>Oporto, Porto District, Portugal</td>\n",
       "      <td>f</td>\n",
       "      <td>19.0</td>\n",
       "      <td>t</td>\n",
       "      <td>Porto, Portugal</td>\n",
       "      <td>...</td>\n",
       "      <td>58</td>\n",
       "      <td>52.2</td>\n",
       "      <td>Porto</td>\n",
       "      <td>1</td>\n",
       "      <td>1</td>\n",
       "      <td>1</td>\n",
       "      <td>1</td>\n",
       "      <td>1</td>\n",
       "      <td>1</td>\n",
       "      <td>0</td>\n",
       "    </tr>\n",
       "    <tr>\n",
       "      <td>1</td>\n",
       "      <td>42462</td>\n",
       "      <td>https://www.airbnb.com/rooms/42462</td>\n",
       "      <td>It's the perfect choice for family holidays or...</td>\n",
       "      <td>185492</td>\n",
       "      <td>7/30/2010</td>\n",
       "      <td>Vila Nova de Gaia, Porto District, Portugal</td>\n",
       "      <td>t</td>\n",
       "      <td>3.0</td>\n",
       "      <td>t</td>\n",
       "      <td>Vila Nova de Gaia-Palmeira, Portugal</td>\n",
       "      <td>...</td>\n",
       "      <td>50</td>\n",
       "      <td>45.0</td>\n",
       "      <td>Vila Nova de Gaia-Palmeira</td>\n",
       "      <td>1</td>\n",
       "      <td>1</td>\n",
       "      <td>1</td>\n",
       "      <td>0</td>\n",
       "      <td>1</td>\n",
       "      <td>1</td>\n",
       "      <td>1</td>\n",
       "    </tr>\n",
       "    <tr>\n",
       "      <td>2</td>\n",
       "      <td>55111</td>\n",
       "      <td>https://www.airbnb.com/rooms/55111</td>\n",
       "      <td>The first floor in house with shared pool.  It...</td>\n",
       "      <td>259711</td>\n",
       "      <td>10/12/2010</td>\n",
       "      <td>Porto, Porto, Portugal</td>\n",
       "      <td>t</td>\n",
       "      <td>3.0</td>\n",
       "      <td>t</td>\n",
       "      <td>Paredes Municipality, Portugal</td>\n",
       "      <td>...</td>\n",
       "      <td>66</td>\n",
       "      <td>59.4</td>\n",
       "      <td>Paredes Municipality</td>\n",
       "      <td>1</td>\n",
       "      <td>1</td>\n",
       "      <td>1</td>\n",
       "      <td>1</td>\n",
       "      <td>1</td>\n",
       "      <td>0</td>\n",
       "      <td>0</td>\n",
       "    </tr>\n",
       "    <tr>\n",
       "      <td>3</td>\n",
       "      <td>70925</td>\n",
       "      <td>https://www.airbnb.com/rooms/70925</td>\n",
       "      <td>Apartment with the best view of the Porto city...</td>\n",
       "      <td>361205</td>\n",
       "      <td>1/25/2011</td>\n",
       "      <td>Vila Nova de Gaia, Porto District, Portugal</td>\n",
       "      <td>t</td>\n",
       "      <td>2.0</td>\n",
       "      <td>t</td>\n",
       "      <td>Vila Nova de Gaia, Portugal</td>\n",
       "      <td>...</td>\n",
       "      <td>97</td>\n",
       "      <td>87.3</td>\n",
       "      <td>Vila Nova de Gaia</td>\n",
       "      <td>1</td>\n",
       "      <td>1</td>\n",
       "      <td>1</td>\n",
       "      <td>1</td>\n",
       "      <td>1</td>\n",
       "      <td>0</td>\n",
       "      <td>0</td>\n",
       "    </tr>\n",
       "    <tr>\n",
       "      <td>4</td>\n",
       "      <td>73828</td>\n",
       "      <td>https://www.airbnb.com/rooms/73828</td>\n",
       "      <td>The first floor in house with shared pool.  Ou...</td>\n",
       "      <td>259711</td>\n",
       "      <td>10/12/2010</td>\n",
       "      <td>Porto, Porto, Portugal</td>\n",
       "      <td>t</td>\n",
       "      <td>3.0</td>\n",
       "      <td>t</td>\n",
       "      <td>Estação, Portugal</td>\n",
       "      <td>...</td>\n",
       "      <td>66</td>\n",
       "      <td>59.4</td>\n",
       "      <td>Estação</td>\n",
       "      <td>1</td>\n",
       "      <td>1</td>\n",
       "      <td>1</td>\n",
       "      <td>1</td>\n",
       "      <td>1</td>\n",
       "      <td>0</td>\n",
       "      <td>0</td>\n",
       "    </tr>\n",
       "  </tbody>\n",
       "</table>\n",
       "<p>5 rows × 48 columns</p>\n",
       "</div>"
      ],
      "text/plain": [
       "      id                         listing_url  \\\n",
       "0  41339  https://www.airbnb.com/rooms/41339   \n",
       "1  42462  https://www.airbnb.com/rooms/42462   \n",
       "2  55111  https://www.airbnb.com/rooms/55111   \n",
       "3  70925  https://www.airbnb.com/rooms/70925   \n",
       "4  73828  https://www.airbnb.com/rooms/73828   \n",
       "\n",
       "                                               space  host_id  host_since  \\\n",
       "0  Apartment facing Southeast, with a big bedroom...   180050   7/25/2010   \n",
       "1  It's the perfect choice for family holidays or...   185492   7/30/2010   \n",
       "2  The first floor in house with shared pool.  It...   259711  10/12/2010   \n",
       "3  Apartment with the best view of the Porto city...   361205   1/25/2011   \n",
       "4  The first floor in house with shared pool.  Ou...   259711  10/12/2010   \n",
       "\n",
       "                                 host_location host_is_superhost  \\\n",
       "0             Oporto, Porto District, Portugal                 f   \n",
       "1  Vila Nova de Gaia, Porto District, Portugal                 t   \n",
       "2                       Porto, Porto, Portugal                 t   \n",
       "3  Vila Nova de Gaia, Porto District, Portugal                 t   \n",
       "4                       Porto, Porto, Portugal                 t   \n",
       "\n",
       "   host_listings_count host_identity_verified  \\\n",
       "0                 19.0                      t   \n",
       "1                  3.0                      t   \n",
       "2                  3.0                      t   \n",
       "3                  2.0                      t   \n",
       "4                  3.0                      t   \n",
       "\n",
       "                         smart_location  ... priceDollar priceEuro  \\\n",
       "0                       Porto, Portugal  ...          58      52.2   \n",
       "1  Vila Nova de Gaia-Palmeira, Portugal  ...          50      45.0   \n",
       "2        Paredes Municipality, Portugal  ...          66      59.4   \n",
       "3           Vila Nova de Gaia, Portugal  ...          97      87.3   \n",
       "4                     Estação, Portugal  ...          66      59.4   \n",
       "\n",
       "                     location  essentials  tv  wifi fridge hostGreets  \\\n",
       "0                       Porto           1   1     1      1          1   \n",
       "1  Vila Nova de Gaia-Palmeira           1   1     1      0          1   \n",
       "2        Paredes Municipality           1   1     1      1          1   \n",
       "3           Vila Nova de Gaia           1   1     1      1          1   \n",
       "4                     Estação           1   1     1      1          1   \n",
       "\n",
       "   longTerm  heating  \n",
       "0         1        0  \n",
       "1         1        1  \n",
       "2         0        0  \n",
       "3         0        0  \n",
       "4         0        0  \n",
       "\n",
       "[5 rows x 48 columns]"
      ]
     },
     "execution_count": 146,
     "metadata": {},
     "output_type": "execute_result"
    }
   ],
   "source": [
    "# Use this cell to write the necessary code to perform Task #14\n",
    "\n",
    "df2 = pd.read_csv('part2.csv')\n",
    "df2.head()"
   ]
  },
  {
   "cell_type": "markdown",
   "metadata": {},
   "source": [
    "<b> Task #15 </b><br>\n",
    "Create a figure that compares the boxplots of different locations: 'Porto', 'Vila Nova de Gaia', 'Matosinhos', 'Póvoa de Varzim', 'Vila do Conde' and 'Espinho' (use these exact strings on the location column).\n",
    "\n",
    "What insights can we extract from comparing the different boxplots?"
   ]
  },
  {
   "cell_type": "code",
   "execution_count": 151,
   "metadata": {},
   "outputs": [
    {
     "data": {
      "text/plain": [
       "11479"
      ]
     },
     "execution_count": 151,
     "metadata": {},
     "output_type": "execute_result"
    }
   ],
   "source": [
    "df_10_to_400_2nd = df2[(df2['priceEuro'] >=10) & (df2['priceEuro'] <=400)]\n",
    "len(df_10_to_400_2nd)"
   ]
  },
  {
   "cell_type": "code",
   "execution_count": 153,
   "metadata": {},
   "outputs": [
    {
     "name": "stdout",
     "output_type": "stream",
     "text": [
      "0                         Porto\n",
      "1    Vila Nova de Gaia-Palmeira\n",
      "2          Paredes Municipality\n",
      "3             Vila Nova de Gaia\n",
      "4                       Estação\n",
      "Name: location, dtype: object\n",
      "0    52.2\n",
      "1    45.0\n",
      "2    59.4\n",
      "3    87.3\n",
      "4    59.4\n",
      "Name: priceEuro, dtype: float64\n"
     ]
    }
   ],
   "source": [
    "print(df_10_to_400_2nd['location'].head())\n",
    "print(df_10_to_400_2nd['priceEuro'].head())\n"
   ]
  },
  {
   "cell_type": "code",
   "execution_count": 162,
   "metadata": {},
   "outputs": [],
   "source": [
    "df_for_box_plot = df_10_to_400_2nd[(df_10_to_400_2nd['location'] == 'Porto') | (df_10_to_400_2nd['location'] == 'Vila Nova de Gaia') |\n",
    "                                   (df_10_to_400_2nd['location'] == 'Matosinhos') | (df_10_to_400_2nd['location'] == 'Póvoa de Varzim') |\n",
    "                                  (df_10_to_400_2nd['location'] == 'Vila do Conde') | (df_10_to_400_2nd['location'] == 'Espinho')]\n",
    "\n",
    "\n"
   ]
  },
  {
   "cell_type": "code",
   "execution_count": 164,
   "metadata": {},
   "outputs": [
    {
     "data": {
      "text/plain": [
       "<matplotlib.axes._subplots.AxesSubplot at 0x9a571bd9e8>"
      ]
     },
     "execution_count": 164,
     "metadata": {},
     "output_type": "execute_result"
    },
    {
     "data": {
      "image/png": "[encoded data removed]",
      "text/plain": [
       "<Figure size 432x288 with 1 Axes>"
      ]
     },
     "metadata": {
      "needs_background": "light"
     },
     "output_type": "display_data"
    }
   ],
   "source": [
    "sns.boxplot(x = 'location', y = 'priceEuro', data = df_for_box_plot)"
   ]
  },
  {
   "cell_type": "markdown",
   "metadata": {},
   "source": [
    "In vartical bar plot, name of locations are not clearly visible"
   ]
  },
  {
   "cell_type": "code",
   "execution_count": 165,
   "metadata": {},
   "outputs": [
    {
     "data": {
      "text/plain": [
       "<matplotlib.axes._subplots.AxesSubplot at 0x9a57274908>"
      ]
     },
     "execution_count": 165,
     "metadata": {},
     "output_type": "execute_result"
    },
    {
     "data": {
      "image/png": "[encoded data removed]",
      "text/plain": [
       "<Figure size 432x288 with 1 Axes>"
      ]
     },
     "metadata": {
      "needs_background": "light"
     },
     "output_type": "display_data"
    }
   ],
   "source": [
    "sns.boxplot(x = 'priceEuro', y = 'location', data = df_for_box_plot) "
   ]
  },
  {
   "cell_type": "markdown",
   "metadata": {},
   "source": [
    "<b>Q. What insights can we extract from comparing the different boxplots?</b><br>\n",
    "Answer: Side by side box plots or box plot comparison especially used for visually comparing two or more data sets. <br>\n",
    "This comparison includes:<br>\n",
    "<br>\n",
    "1- Comparison of centrality<br>\n",
    "2- Comparison of spread<br>\n",
    "3- Comparison of symmetry and skewness\n"
   ]
  },
  {
   "cell_type": "markdown",
   "metadata": {},
   "source": [
    "<b> Task #16 </b><br>\n",
    "Statistically determine whether the averages between the cities are the same. Describe the results of the test.\n",
    "\n",
    "Describe: what the null hypothesis represents, the alpha you are using, the test statistic used and what was its value, the p-value and it's impact on the null hypothesis and the conclusion of the test."
   ]
  },
  {
   "cell_type": "code",
   "execution_count": 290,
   "metadata": {},
   "outputs": [
    {
     "data": {
      "text/plain": [
       "location\n",
       "Espinho              66.845455\n",
       "Matosinhos           60.552155\n",
       "Porto                63.339545\n",
       "Póvoa de Varzim      68.391304\n",
       "Vila Nova de Gaia    62.953059\n",
       "Vila do Conde        70.881429\n",
       "Name: priceEuro, dtype: float64"
      ]
     },
     "execution_count": 290,
     "metadata": {},
     "output_type": "execute_result"
    }
   ],
   "source": [
    "# find mean for all location prices\n",
    "all_loc_price_means = df_for_box_plot.groupby(['location']).mean()['priceEuro']\n",
    "all_loc_price_means"
   ]
  },
  {
   "cell_type": "code",
   "execution_count": 319,
   "metadata": {},
   "outputs": [
    {
     "name": "stdout",
     "output_type": "stream",
     "text": [
      "X_bar: 65.49\n",
      "Std. 3.53\n",
      "Count: 6\n"
     ]
    }
   ],
   "source": [
    "x_bar = np.mean(all_loc_price_means.tolist())\n",
    "\n",
    "std = np.std(all_loc_price_means.tolist())\n",
    "\n",
    "std = np.round(std, 2)\n",
    "\n",
    "count = len(all_loc_price_means.tolist())\n",
    "\n",
    "print(\"X_bar: \"+str(round(x_bar,2)))\n",
    "\n",
    "print(\"Std. \"+str(std))\n",
    "\n",
    "print(\"Count: \"+str(count))\n"
   ]
  },
  {
   "cell_type": "code",
   "execution_count": 320,
   "metadata": {},
   "outputs": [
    {
     "data": {
      "text/plain": [
       "1.44"
      ]
     },
     "execution_count": 320,
     "metadata": {},
     "output_type": "execute_result"
    }
   ],
   "source": [
    "# calculate standard error\n",
    "\n",
    "se = (std)/(np.sqrt(count))\n",
    "se = np.round(se, 2)\n",
    "se"
   ]
  },
  {
   "cell_type": "markdown",
   "metadata": {},
   "source": [
    "<b>Null hypothesis:</b> The averages between the cities are same. <br>\n",
    "<b>Alternative hypothesis:</b> The averages between the cities are different.<br>\n",
    "<b>Significance Level:</b> A significance level of 0.05 indicates a 5% risk of concluding that a difference exists when there is no actual difference. (alfa = 0.05)\n"
   ]
  },
  {
   "cell_type": "code",
   "execution_count": 323,
   "metadata": {},
   "outputs": [
    {
     "data": {
      "text/plain": [
       "63.49"
      ]
     },
     "execution_count": 323,
     "metadata": {},
     "output_type": "execute_result"
    }
   ],
   "source": [
    "mieu = df_for_box_plot['priceEuro'].mean()\n",
    "mieu = np.round(mieu, 2)\n",
    "mieu"
   ]
  },
  {
   "cell_type": "code",
   "execution_count": 329,
   "metadata": {},
   "outputs": [
    {
     "data": {
      "text/plain": [
       "1.39"
      ]
     },
     "execution_count": 329,
     "metadata": {},
     "output_type": "execute_result"
    }
   ],
   "source": [
    "# Use this cell to write the necessary code to perform Task #16\n",
    "\n",
    "z = (x_bar - mieu)/se\n",
    "z = np.round(z, 2)\n",
    "z"
   ]
  },
  {
   "cell_type": "code",
   "execution_count": 337,
   "metadata": {},
   "outputs": [
    {
     "data": {
      "text/plain": [
       "0.16"
      ]
     },
     "execution_count": 337,
     "metadata": {},
     "output_type": "execute_result"
    }
   ],
   "source": [
    "import scipy\n",
    "p_values = scipy.stats.norm.sf(abs(z))*2\n",
    "p_values = np.round(p_values, 2)\n",
    "p_values"
   ]
  },
  {
   "cell_type": "markdown",
   "metadata": {},
   "source": [
    "### Test Result: <br>\n",
    "Since 0.16 > 0.05 (p_value > alfa), So we won't reject null hypothesis."
   ]
  },
  {
   "cell_type": "markdown",
   "metadata": {},
   "source": [
    "<b> Task #17 </b><br>\n",
    "Now you will study if two envents are independent or not. In particular, do listings with a room type 'Entire home/apt' tend to have review_scores_rating of 90 or more?\n",
    "\n",
    "Start by creating a contingency table to compare the ocorrences of listings in each of the four possible categories."
   ]
  },
  {
   "cell_type": "code",
   "execution_count": 349,
   "metadata": {},
   "outputs": [
    {
     "data": {
      "text/html": [
       "<div>\n",
       "<style scoped>\n",
       "    .dataframe tbody tr th:only-of-type {\n",
       "        vertical-align: middle;\n",
       "    }\n",
       "\n",
       "    .dataframe tbody tr th {\n",
       "        vertical-align: top;\n",
       "    }\n",
       "\n",
       "    .dataframe thead th {\n",
       "        text-align: right;\n",
       "    }\n",
       "</style>\n",
       "<table border=\"1\" class=\"dataframe\">\n",
       "  <thead>\n",
       "    <tr style=\"text-align: right;\">\n",
       "      <th>review_scores_rating</th>\n",
       "      <th>False</th>\n",
       "      <th>True</th>\n",
       "    </tr>\n",
       "    <tr>\n",
       "      <th>room_type</th>\n",
       "      <th></th>\n",
       "      <th></th>\n",
       "    </tr>\n",
       "  </thead>\n",
       "  <tbody>\n",
       "    <tr>\n",
       "      <td>Entire home/apt</td>\n",
       "      <td>2727</td>\n",
       "      <td>6167</td>\n",
       "    </tr>\n",
       "    <tr>\n",
       "      <td>Hotel room</td>\n",
       "      <td>148</td>\n",
       "      <td>177</td>\n",
       "    </tr>\n",
       "    <tr>\n",
       "      <td>Private room</td>\n",
       "      <td>959</td>\n",
       "      <td>1189</td>\n",
       "    </tr>\n",
       "    <tr>\n",
       "      <td>Shared room</td>\n",
       "      <td>51</td>\n",
       "      <td>61</td>\n",
       "    </tr>\n",
       "  </tbody>\n",
       "</table>\n",
       "</div>"
      ],
      "text/plain": [
       "review_scores_rating  False  True \n",
       "room_type                         \n",
       "Entire home/apt        2727   6167\n",
       "Hotel room              148    177\n",
       "Private room            959   1189\n",
       "Shared room              51     61"
      ]
     },
     "execution_count": 349,
     "metadata": {},
     "output_type": "execute_result"
    }
   ],
   "source": [
    "contingency_table = pd.crosstab(df_10_to_400_2nd.room_type, df_10_to_400_2nd.review_scores_rating>90)\n",
    "contingency_table"
   ]
  },
  {
   "cell_type": "code",
   "execution_count": 353,
   "metadata": {},
   "outputs": [
    {
     "data": {
      "text/plain": [
       "Entire home/apt    8894\n",
       "Private room       2148\n",
       "Hotel room          325\n",
       "Shared room         112\n",
       "Name: room_type, dtype: int64"
      ]
     },
     "execution_count": 353,
     "metadata": {},
     "output_type": "execute_result"
    }
   ],
   "source": [
    "df_10_to_400_2nd['room_type'].value_counts()"
   ]
  },
  {
   "cell_type": "markdown",
   "metadata": {},
   "source": [
    "<b> Task #18 </b><br>\n",
    "Then use a statistical method to determine the independence of both events and describe the results.\n",
    "\n",
    "Describe: what the null hypothesis represents, the alpha you are using, the test statistic used and what was its value, the p-value and it's impact on the null hypothesis and the conclusion of the test. "
   ]
  },
  {
   "cell_type": "markdown",
   "metadata": {},
   "source": [
    "#### Answer:\n",
    "<b>Null hypothesis:</b> Two events 'room_type' and 'review_scores_rating are dependent'.<br>\n",
    "<b>Alternative hypothesis:</b> Two events 'room_type' and 'review_scores_rating' are independent.<br>\n",
    "<b>Significance Level:</b> A significance level of 0.05 indicates a 5% risk of concluding that a difference exists when there is no actual difference. (alfa = 0.05)\n"
   ]
  },
  {
   "cell_type": "code",
   "execution_count": 386,
   "metadata": {},
   "outputs": [
    {
     "name": "stdout",
     "output_type": "stream",
     "text": [
      "7.35\n"
     ]
    },
    {
     "data": {
      "text/plain": [
       "3.0"
      ]
     },
     "execution_count": 386,
     "metadata": {},
     "output_type": "execute_result"
    }
   ],
   "source": [
    "obs_grt_90 = len(df_10_to_400_2nd[df_10_to_400_2nd['review_scores_rating'] > 90])\n",
    "total_obs = len(df_10_to_400_2nd)\n",
    "\n",
    "prob = obs_grt_90/total_obs\n",
    "prob = np.round(prob, 2)\n",
    "\n",
    "std = np.nanstd(df_10_to_400_2nd['review_scores_rating'].tolist())\n",
    "std = np.round(std, 2)\n",
    "print(std)\n",
    "\n",
    "\n",
    "se = (std)/(np.sqrt(count))\n",
    "se = np.round(se, 2)\n",
    "se\n"
   ]
  },
  {
   "cell_type": "code",
   "execution_count": 389,
   "metadata": {},
   "outputs": [
    {
     "data": {
      "text/plain": [
       "0.22"
      ]
     },
     "execution_count": 389,
     "metadata": {},
     "output_type": "execute_result"
    }
   ],
   "source": [
    "# inference\n",
    "\n",
    "z = (prob-0)/se\n",
    "z = np.round(z,2)\n",
    "z\n",
    "\n",
    "\n"
   ]
  },
  {
   "cell_type": "code",
   "execution_count": 390,
   "metadata": {},
   "outputs": [
    {
     "data": {
      "text/plain": [
       "0.83"
      ]
     },
     "execution_count": 390,
     "metadata": {},
     "output_type": "execute_result"
    }
   ],
   "source": [
    "import scipy\n",
    "p_values = scipy.stats.norm.sf(abs(z))*2\n",
    "p_values = np.round(p_values, 2)\n",
    "p_values"
   ]
  },
  {
   "cell_type": "markdown",
   "metadata": {},
   "source": [
    "### Test Result: <br>\n",
    "Since 0.83 > 0.05 (p_value > alfa), So we won't reject null hypothesis."
   ]
  },
  {
   "cell_type": "markdown",
   "metadata": {},
   "source": [
    "<b> Task #19 </b><br>\n",
    "Create two new variables from the dataset that can aid you in detecting the price.\n",
    "\n",
    "Explain from a functional/logical point of view why these features might be relevant."
   ]
  },
  {
   "cell_type": "code",
   "execution_count": 360,
   "metadata": {},
   "outputs": [
    {
     "data": {
      "text/html": [
       "<div>\n",
       "<style scoped>\n",
       "    .dataframe tbody tr th:only-of-type {\n",
       "        vertical-align: middle;\n",
       "    }\n",
       "\n",
       "    .dataframe tbody tr th {\n",
       "        vertical-align: top;\n",
       "    }\n",
       "\n",
       "    .dataframe thead th {\n",
       "        text-align: right;\n",
       "    }\n",
       "</style>\n",
       "<table border=\"1\" class=\"dataframe\">\n",
       "  <thead>\n",
       "    <tr style=\"text-align: right;\">\n",
       "      <th></th>\n",
       "      <th>host_listings_count</th>\n",
       "      <th>accommodates</th>\n",
       "      <th>bathrooms</th>\n",
       "      <th>bedrooms</th>\n",
       "      <th>beds</th>\n",
       "      <th>minimum_nights</th>\n",
       "      <th>maximum_nights</th>\n",
       "      <th>availability_30</th>\n",
       "      <th>availability_60</th>\n",
       "      <th>availability_90</th>\n",
       "      <th>...</th>\n",
       "      <th>review_scores_communication</th>\n",
       "      <th>review_scores_location</th>\n",
       "      <th>review_scores_value</th>\n",
       "      <th>calculated_host_listings_count</th>\n",
       "      <th>calculated_host_listings_count_entire_homes</th>\n",
       "      <th>calculated_host_listings_count_private_rooms</th>\n",
       "      <th>calculated_host_listings_count_shared_rooms</th>\n",
       "      <th>reviews_per_month</th>\n",
       "      <th>essentials</th>\n",
       "      <th>priceEuro</th>\n",
       "    </tr>\n",
       "  </thead>\n",
       "  <tbody>\n",
       "    <tr>\n",
       "      <td>0</td>\n",
       "      <td>19.0</td>\n",
       "      <td>5</td>\n",
       "      <td>1.0</td>\n",
       "      <td>1.0</td>\n",
       "      <td>4.0</td>\n",
       "      <td>2</td>\n",
       "      <td>90</td>\n",
       "      <td>0</td>\n",
       "      <td>0</td>\n",
       "      <td>0</td>\n",
       "      <td>...</td>\n",
       "      <td>10.0</td>\n",
       "      <td>9.0</td>\n",
       "      <td>9.0</td>\n",
       "      <td>1</td>\n",
       "      <td>1</td>\n",
       "      <td>0</td>\n",
       "      <td>0</td>\n",
       "      <td>0.21</td>\n",
       "      <td>1</td>\n",
       "      <td>52.2</td>\n",
       "    </tr>\n",
       "    <tr>\n",
       "      <td>1</td>\n",
       "      <td>3.0</td>\n",
       "      <td>9</td>\n",
       "      <td>3.0</td>\n",
       "      <td>3.0</td>\n",
       "      <td>8.0</td>\n",
       "      <td>4</td>\n",
       "      <td>365</td>\n",
       "      <td>0</td>\n",
       "      <td>0</td>\n",
       "      <td>3</td>\n",
       "      <td>...</td>\n",
       "      <td>10.0</td>\n",
       "      <td>9.0</td>\n",
       "      <td>9.0</td>\n",
       "      <td>3</td>\n",
       "      <td>3</td>\n",
       "      <td>0</td>\n",
       "      <td>0</td>\n",
       "      <td>0.46</td>\n",
       "      <td>1</td>\n",
       "      <td>45.0</td>\n",
       "    </tr>\n",
       "    <tr>\n",
       "      <td>2</td>\n",
       "      <td>3.0</td>\n",
       "      <td>5</td>\n",
       "      <td>1.0</td>\n",
       "      <td>2.0</td>\n",
       "      <td>5.0</td>\n",
       "      <td>4</td>\n",
       "      <td>8</td>\n",
       "      <td>0</td>\n",
       "      <td>0</td>\n",
       "      <td>0</td>\n",
       "      <td>...</td>\n",
       "      <td>10.0</td>\n",
       "      <td>10.0</td>\n",
       "      <td>10.0</td>\n",
       "      <td>3</td>\n",
       "      <td>3</td>\n",
       "      <td>0</td>\n",
       "      <td>0</td>\n",
       "      <td>0.26</td>\n",
       "      <td>1</td>\n",
       "      <td>59.4</td>\n",
       "    </tr>\n",
       "    <tr>\n",
       "      <td>3</td>\n",
       "      <td>2.0</td>\n",
       "      <td>6</td>\n",
       "      <td>1.0</td>\n",
       "      <td>2.0</td>\n",
       "      <td>2.0</td>\n",
       "      <td>4</td>\n",
       "      <td>177</td>\n",
       "      <td>23</td>\n",
       "      <td>46</td>\n",
       "      <td>76</td>\n",
       "      <td>...</td>\n",
       "      <td>10.0</td>\n",
       "      <td>10.0</td>\n",
       "      <td>10.0</td>\n",
       "      <td>2</td>\n",
       "      <td>2</td>\n",
       "      <td>0</td>\n",
       "      <td>0</td>\n",
       "      <td>0.56</td>\n",
       "      <td>1</td>\n",
       "      <td>87.3</td>\n",
       "    </tr>\n",
       "    <tr>\n",
       "      <td>4</td>\n",
       "      <td>3.0</td>\n",
       "      <td>5</td>\n",
       "      <td>1.0</td>\n",
       "      <td>2.0</td>\n",
       "      <td>5.0</td>\n",
       "      <td>4</td>\n",
       "      <td>8</td>\n",
       "      <td>0</td>\n",
       "      <td>0</td>\n",
       "      <td>0</td>\n",
       "      <td>...</td>\n",
       "      <td>10.0</td>\n",
       "      <td>10.0</td>\n",
       "      <td>9.0</td>\n",
       "      <td>3</td>\n",
       "      <td>3</td>\n",
       "      <td>0</td>\n",
       "      <td>0</td>\n",
       "      <td>0.14</td>\n",
       "      <td>1</td>\n",
       "      <td>59.4</td>\n",
       "    </tr>\n",
       "  </tbody>\n",
       "</table>\n",
       "<p>5 rows × 29 columns</p>\n",
       "</div>"
      ],
      "text/plain": [
       "   host_listings_count  accommodates  bathrooms  bedrooms  beds  \\\n",
       "0                 19.0             5        1.0       1.0   4.0   \n",
       "1                  3.0             9        3.0       3.0   8.0   \n",
       "2                  3.0             5        1.0       2.0   5.0   \n",
       "3                  2.0             6        1.0       2.0   2.0   \n",
       "4                  3.0             5        1.0       2.0   5.0   \n",
       "\n",
       "   minimum_nights  maximum_nights  availability_30  availability_60  \\\n",
       "0               2              90                0                0   \n",
       "1               4             365                0                0   \n",
       "2               4               8                0                0   \n",
       "3               4             177               23               46   \n",
       "4               4               8                0                0   \n",
       "\n",
       "   availability_90  ...  review_scores_communication  review_scores_location  \\\n",
       "0                0  ...                         10.0                     9.0   \n",
       "1                3  ...                         10.0                     9.0   \n",
       "2                0  ...                         10.0                    10.0   \n",
       "3               76  ...                         10.0                    10.0   \n",
       "4                0  ...                         10.0                    10.0   \n",
       "\n",
       "   review_scores_value  calculated_host_listings_count  \\\n",
       "0                  9.0                               1   \n",
       "1                  9.0                               3   \n",
       "2                 10.0                               3   \n",
       "3                 10.0                               2   \n",
       "4                  9.0                               3   \n",
       "\n",
       "   calculated_host_listings_count_entire_homes  \\\n",
       "0                                            1   \n",
       "1                                            3   \n",
       "2                                            3   \n",
       "3                                            2   \n",
       "4                                            3   \n",
       "\n",
       "   calculated_host_listings_count_private_rooms  \\\n",
       "0                                             0   \n",
       "1                                             0   \n",
       "2                                             0   \n",
       "3                                             0   \n",
       "4                                             0   \n",
       "\n",
       "   calculated_host_listings_count_shared_rooms  reviews_per_month  essentials  \\\n",
       "0                                            0               0.21           1   \n",
       "1                                            0               0.46           1   \n",
       "2                                            0               0.26           1   \n",
       "3                                            0               0.56           1   \n",
       "4                                            0               0.14           1   \n",
       "\n",
       "   priceEuro  \n",
       "0       52.2  \n",
       "1       45.0  \n",
       "2       59.4  \n",
       "3       87.3  \n",
       "4       59.4  \n",
       "\n",
       "[5 rows x 29 columns]"
      ]
     },
     "execution_count": 360,
     "metadata": {},
     "output_type": "execute_result"
    }
   ],
   "source": [
    "# first we find all numerical variables exist in data\n",
    "\n",
    "numerical_vars = ['host_listings_count', 'accommodates', 'bathrooms', 'bedrooms', 'beds', 'minimum_nights', 'maximum_nights', 'availability_30',\n",
    "                  'availability_60', 'availability_90', 'availability_365', 'review_scores_rating', 'availability_60', 'availability_90',\n",
    "                  'availability_365', 'review_scores_rating', 'review_scores_accuracy', 'review_scores_cleanliness', 'review_scores_checkin',\n",
    "                  'review_scores_communication', 'review_scores_location', 'review_scores_value', 'calculated_host_listings_count',\n",
    "                  'calculated_host_listings_count_entire_homes', 'calculated_host_listings_count_private_rooms',\n",
    "                  'calculated_host_listings_count_shared_rooms', 'reviews_per_month', 'essentials', 'priceEuro']\n",
    "\n",
    "\n",
    "\n",
    "\n",
    "\n",
    "\n",
    "numerical_vars_df= df_10_to_400_2nd[numerical_vars]\n",
    "numerical_vars_df.head()"
   ]
  },
  {
   "cell_type": "code",
   "execution_count": 196,
   "metadata": {},
   "outputs": [
    {
     "data": {
      "text/plain": [
       "priceEuro                                       1.000000\n",
       "accommodates                                    0.498232\n",
       "bedrooms                                        0.457833\n",
       "beds                                            0.402379\n",
       "bathrooms                                       0.397919\n",
       "availability_365                                0.133319\n",
       "availability_365                                0.133319\n",
       "availability_30                                 0.119054\n",
       "availability_60                                 0.114912\n",
       "availability_60                                 0.114912\n",
       "availability_90                                 0.109626\n",
       "availability_90                                 0.109626\n",
       "review_scores_rating                            0.074736\n",
       "review_scores_rating                            0.074736\n",
       "review_scores_cleanliness                       0.061763\n",
       "review_scores_location                          0.057000\n",
       "calculated_host_listings_count_entire_homes     0.052010\n",
       "host_listings_count                             0.045959\n",
       "maximum_nights                                  0.038759\n",
       "review_scores_communication                     0.025570\n",
       "review_scores_checkin                           0.024154\n",
       "review_scores_accuracy                          0.023080\n",
       "calculated_host_listings_count                  0.020834\n",
       "review_scores_value                             0.012107\n",
       "essentials                                      0.002922\n",
       "minimum_nights                                 -0.030459\n",
       "calculated_host_listings_count_shared_rooms    -0.096588\n",
       "reviews_per_month                              -0.136690\n",
       "calculated_host_listings_count_private_rooms   -0.151906\n",
       "dtype: float64"
      ]
     },
     "execution_count": 196,
     "metadata": {},
     "output_type": "execute_result"
    }
   ],
   "source": [
    "# finding best features to make model.\n",
    "numerical_vars_df.corrwith(numerical_vars_df.priceEuro).sort_values(ascending=False)"
   ]
  },
  {
   "cell_type": "code",
   "execution_count": 372,
   "metadata": {},
   "outputs": [
    {
     "data": {
      "text/plain": [
       "<matplotlib.axes._subplots.AxesSubplot at 0x9a5c494438>"
      ]
     },
     "execution_count": 372,
     "metadata": {},
     "output_type": "execute_result"
    },
    {
     "data": {
      "image/png": "[encoded data removed]",
      "text/plain": [
       "<Figure size 1440x720 with 1 Axes>"
      ]
     },
     "metadata": {
      "needs_background": "light"
     },
     "output_type": "display_data"
    }
   ],
   "source": [
    "numerical_vars_df.corrwith(numerical_vars_df.priceEuro).sort_values(ascending=False).plot.barh(\n",
    "        figsize = (20, 10), title = \"Correlation with class\", fontsize = 15,\n",
    "        rot = 45, grid = True)"
   ]
  },
  {
   "cell_type": "code",
   "execution_count": 199,
   "metadata": {},
   "outputs": [
    {
     "data": {
      "text/plain": [
       "Index(['priceEuro', 'accommodates', 'bedrooms', 'beds', 'bathrooms',\n",
       "       'availability_365', 'availability_365', 'availability_30',\n",
       "       'availability_60', 'availability_60', 'availability_90',\n",
       "       'availability_90', 'review_scores_rating', 'review_scores_rating',\n",
       "       'review_scores_cleanliness', 'review_scores_location',\n",
       "       'calculated_host_listings_count_entire_homes', 'host_listings_count',\n",
       "       'maximum_nights', 'review_scores_communication',\n",
       "       'review_scores_checkin', 'review_scores_accuracy',\n",
       "       'calculated_host_listings_count', 'review_scores_value', 'essentials',\n",
       "       'minimum_nights', 'calculated_host_listings_count_shared_rooms',\n",
       "       'reviews_per_month', 'calculated_host_listings_count_private_rooms'],\n",
       "      dtype='object')"
      ]
     },
     "execution_count": 199,
     "metadata": {},
     "output_type": "execute_result"
    }
   ],
   "source": [
    "numerical_vars_df.corrwith(numerical_vars_df.priceEuro).sort_values(ascending=False).index"
   ]
  },
  {
   "cell_type": "code",
   "execution_count": 363,
   "metadata": {},
   "outputs": [
    {
     "data": {
      "text/html": [
       "<div>\n",
       "<style scoped>\n",
       "    .dataframe tbody tr th:only-of-type {\n",
       "        vertical-align: middle;\n",
       "    }\n",
       "\n",
       "    .dataframe tbody tr th {\n",
       "        vertical-align: top;\n",
       "    }\n",
       "\n",
       "    .dataframe thead th {\n",
       "        text-align: right;\n",
       "    }\n",
       "</style>\n",
       "<table border=\"1\" class=\"dataframe\">\n",
       "  <thead>\n",
       "    <tr style=\"text-align: right;\">\n",
       "      <th></th>\n",
       "      <th>accommodates</th>\n",
       "      <th>bedrooms</th>\n",
       "      <th>beds</th>\n",
       "      <th>bathrooms</th>\n",
       "      <th>calculated_host_listings_count_shared_rooms</th>\n",
       "      <th>reviews_per_month</th>\n",
       "      <th>calculated_host_listings_count_private_rooms</th>\n",
       "      <th>priceEuro</th>\n",
       "    </tr>\n",
       "  </thead>\n",
       "  <tbody>\n",
       "    <tr>\n",
       "      <td>0</td>\n",
       "      <td>5</td>\n",
       "      <td>1.0</td>\n",
       "      <td>4.0</td>\n",
       "      <td>1.0</td>\n",
       "      <td>0</td>\n",
       "      <td>0.21</td>\n",
       "      <td>0</td>\n",
       "      <td>52.2</td>\n",
       "    </tr>\n",
       "    <tr>\n",
       "      <td>1</td>\n",
       "      <td>9</td>\n",
       "      <td>3.0</td>\n",
       "      <td>8.0</td>\n",
       "      <td>3.0</td>\n",
       "      <td>0</td>\n",
       "      <td>0.46</td>\n",
       "      <td>0</td>\n",
       "      <td>45.0</td>\n",
       "    </tr>\n",
       "    <tr>\n",
       "      <td>2</td>\n",
       "      <td>5</td>\n",
       "      <td>2.0</td>\n",
       "      <td>5.0</td>\n",
       "      <td>1.0</td>\n",
       "      <td>0</td>\n",
       "      <td>0.26</td>\n",
       "      <td>0</td>\n",
       "      <td>59.4</td>\n",
       "    </tr>\n",
       "    <tr>\n",
       "      <td>3</td>\n",
       "      <td>6</td>\n",
       "      <td>2.0</td>\n",
       "      <td>2.0</td>\n",
       "      <td>1.0</td>\n",
       "      <td>0</td>\n",
       "      <td>0.56</td>\n",
       "      <td>0</td>\n",
       "      <td>87.3</td>\n",
       "    </tr>\n",
       "    <tr>\n",
       "      <td>4</td>\n",
       "      <td>5</td>\n",
       "      <td>2.0</td>\n",
       "      <td>5.0</td>\n",
       "      <td>1.0</td>\n",
       "      <td>0</td>\n",
       "      <td>0.14</td>\n",
       "      <td>0</td>\n",
       "      <td>59.4</td>\n",
       "    </tr>\n",
       "  </tbody>\n",
       "</table>\n",
       "</div>"
      ],
      "text/plain": [
       "   accommodates  bedrooms  beds  bathrooms  \\\n",
       "0             5       1.0   4.0        1.0   \n",
       "1             9       3.0   8.0        3.0   \n",
       "2             5       2.0   5.0        1.0   \n",
       "3             6       2.0   2.0        1.0   \n",
       "4             5       2.0   5.0        1.0   \n",
       "\n",
       "   calculated_host_listings_count_shared_rooms  reviews_per_month  \\\n",
       "0                                            0               0.21   \n",
       "1                                            0               0.46   \n",
       "2                                            0               0.26   \n",
       "3                                            0               0.56   \n",
       "4                                            0               0.14   \n",
       "\n",
       "   calculated_host_listings_count_private_rooms  priceEuro  \n",
       "0                                             0       52.2  \n",
       "1                                             0       45.0  \n",
       "2                                             0       59.4  \n",
       "3                                             0       87.3  \n",
       "4                                             0       59.4  "
      ]
     },
     "execution_count": 363,
     "metadata": {},
     "output_type": "execute_result"
    }
   ],
   "source": [
    "# So a/c to correlation, most relevant features are\n",
    "\n",
    "relevant_features = ['accommodates', 'bedrooms', 'beds', 'bathrooms', 'calculated_host_listings_count_shared_rooms',\n",
    "       'reviews_per_month', 'calculated_host_listings_count_private_rooms', 'priceEuro']\n",
    "\n",
    "\n",
    "relevant_features_df = df_10_to_400_2nd[relevant_features]\n",
    "\n",
    "relevant_features_df.head()"
   ]
  },
  {
   "cell_type": "markdown",
   "metadata": {},
   "source": [
    "<b> The 2 most relevant features are: </b><br>\n",
    "1- accommodates <br>\n",
    "2- bedrooms<br>\n",
    "\n",
    "Because they are strongly correlated with priceEuro."
   ]
  },
  {
   "cell_type": "markdown",
   "metadata": {},
   "source": [
    "<b> Task #20 </b><br>\n",
    "Calculate the correlation matrix between the numeric variables that are candidates to be inputs in the model. Reduce the number of variables by removing highly correlated variables from the candidates list.\n",
    "\n",
    "Explain your rationale during this proces in the answer section."
   ]
  },
  {
   "cell_type": "code",
   "execution_count": 364,
   "metadata": {},
   "outputs": [
    {
     "data": {
      "text/html": [
       "<div>\n",
       "<style scoped>\n",
       "    .dataframe tbody tr th:only-of-type {\n",
       "        vertical-align: middle;\n",
       "    }\n",
       "\n",
       "    .dataframe tbody tr th {\n",
       "        vertical-align: top;\n",
       "    }\n",
       "\n",
       "    .dataframe thead th {\n",
       "        text-align: right;\n",
       "    }\n",
       "</style>\n",
       "<table border=\"1\" class=\"dataframe\">\n",
       "  <thead>\n",
       "    <tr style=\"text-align: right;\">\n",
       "      <th></th>\n",
       "      <th>accommodates</th>\n",
       "      <th>bedrooms</th>\n",
       "      <th>beds</th>\n",
       "      <th>bathrooms</th>\n",
       "      <th>calculated_host_listings_count_shared_rooms</th>\n",
       "      <th>reviews_per_month</th>\n",
       "      <th>calculated_host_listings_count_private_rooms</th>\n",
       "      <th>priceEuro</th>\n",
       "    </tr>\n",
       "  </thead>\n",
       "  <tbody>\n",
       "    <tr>\n",
       "      <td>accommodates</td>\n",
       "      <td>1.000000</td>\n",
       "      <td>0.773263</td>\n",
       "      <td>0.826749</td>\n",
       "      <td>0.546617</td>\n",
       "      <td>-0.025512</td>\n",
       "      <td>-0.064703</td>\n",
       "      <td>-0.223856</td>\n",
       "      <td>0.498232</td>\n",
       "    </tr>\n",
       "    <tr>\n",
       "      <td>bedrooms</td>\n",
       "      <td>0.773263</td>\n",
       "      <td>1.000000</td>\n",
       "      <td>0.722381</td>\n",
       "      <td>0.625045</td>\n",
       "      <td>-0.039364</td>\n",
       "      <td>-0.118938</td>\n",
       "      <td>-0.096465</td>\n",
       "      <td>0.457833</td>\n",
       "    </tr>\n",
       "    <tr>\n",
       "      <td>beds</td>\n",
       "      <td>0.826749</td>\n",
       "      <td>0.722381</td>\n",
       "      <td>1.000000</td>\n",
       "      <td>0.536819</td>\n",
       "      <td>0.067708</td>\n",
       "      <td>-0.094261</td>\n",
       "      <td>-0.138116</td>\n",
       "      <td>0.402379</td>\n",
       "    </tr>\n",
       "    <tr>\n",
       "      <td>bathrooms</td>\n",
       "      <td>0.546617</td>\n",
       "      <td>0.625045</td>\n",
       "      <td>0.536819</td>\n",
       "      <td>1.000000</td>\n",
       "      <td>0.027152</td>\n",
       "      <td>-0.100913</td>\n",
       "      <td>0.097297</td>\n",
       "      <td>0.397919</td>\n",
       "    </tr>\n",
       "    <tr>\n",
       "      <td>calculated_host_listings_count_shared_rooms</td>\n",
       "      <td>-0.025512</td>\n",
       "      <td>-0.039364</td>\n",
       "      <td>0.067708</td>\n",
       "      <td>0.027152</td>\n",
       "      <td>1.000000</td>\n",
       "      <td>-0.060205</td>\n",
       "      <td>0.055021</td>\n",
       "      <td>-0.096588</td>\n",
       "    </tr>\n",
       "    <tr>\n",
       "      <td>reviews_per_month</td>\n",
       "      <td>-0.064703</td>\n",
       "      <td>-0.118938</td>\n",
       "      <td>-0.094261</td>\n",
       "      <td>-0.100913</td>\n",
       "      <td>-0.060205</td>\n",
       "      <td>1.000000</td>\n",
       "      <td>-0.057721</td>\n",
       "      <td>-0.136690</td>\n",
       "    </tr>\n",
       "    <tr>\n",
       "      <td>calculated_host_listings_count_private_rooms</td>\n",
       "      <td>-0.223856</td>\n",
       "      <td>-0.096465</td>\n",
       "      <td>-0.138116</td>\n",
       "      <td>0.097297</td>\n",
       "      <td>0.055021</td>\n",
       "      <td>-0.057721</td>\n",
       "      <td>1.000000</td>\n",
       "      <td>-0.151906</td>\n",
       "    </tr>\n",
       "    <tr>\n",
       "      <td>priceEuro</td>\n",
       "      <td>0.498232</td>\n",
       "      <td>0.457833</td>\n",
       "      <td>0.402379</td>\n",
       "      <td>0.397919</td>\n",
       "      <td>-0.096588</td>\n",
       "      <td>-0.136690</td>\n",
       "      <td>-0.151906</td>\n",
       "      <td>1.000000</td>\n",
       "    </tr>\n",
       "  </tbody>\n",
       "</table>\n",
       "</div>"
      ],
      "text/plain": [
       "                                              accommodates  bedrooms  \\\n",
       "accommodates                                      1.000000  0.773263   \n",
       "bedrooms                                          0.773263  1.000000   \n",
       "beds                                              0.826749  0.722381   \n",
       "bathrooms                                         0.546617  0.625045   \n",
       "calculated_host_listings_count_shared_rooms      -0.025512 -0.039364   \n",
       "reviews_per_month                                -0.064703 -0.118938   \n",
       "calculated_host_listings_count_private_rooms     -0.223856 -0.096465   \n",
       "priceEuro                                         0.498232  0.457833   \n",
       "\n",
       "                                                  beds  bathrooms  \\\n",
       "accommodates                                  0.826749   0.546617   \n",
       "bedrooms                                      0.722381   0.625045   \n",
       "beds                                          1.000000   0.536819   \n",
       "bathrooms                                     0.536819   1.000000   \n",
       "calculated_host_listings_count_shared_rooms   0.067708   0.027152   \n",
       "reviews_per_month                            -0.094261  -0.100913   \n",
       "calculated_host_listings_count_private_rooms -0.138116   0.097297   \n",
       "priceEuro                                     0.402379   0.397919   \n",
       "\n",
       "                                              calculated_host_listings_count_shared_rooms  \\\n",
       "accommodates                                                                    -0.025512   \n",
       "bedrooms                                                                        -0.039364   \n",
       "beds                                                                             0.067708   \n",
       "bathrooms                                                                        0.027152   \n",
       "calculated_host_listings_count_shared_rooms                                      1.000000   \n",
       "reviews_per_month                                                               -0.060205   \n",
       "calculated_host_listings_count_private_rooms                                     0.055021   \n",
       "priceEuro                                                                       -0.096588   \n",
       "\n",
       "                                              reviews_per_month  \\\n",
       "accommodates                                          -0.064703   \n",
       "bedrooms                                              -0.118938   \n",
       "beds                                                  -0.094261   \n",
       "bathrooms                                             -0.100913   \n",
       "calculated_host_listings_count_shared_rooms           -0.060205   \n",
       "reviews_per_month                                      1.000000   \n",
       "calculated_host_listings_count_private_rooms          -0.057721   \n",
       "priceEuro                                             -0.136690   \n",
       "\n",
       "                                              calculated_host_listings_count_private_rooms  \\\n",
       "accommodates                                                                     -0.223856   \n",
       "bedrooms                                                                         -0.096465   \n",
       "beds                                                                             -0.138116   \n",
       "bathrooms                                                                         0.097297   \n",
       "calculated_host_listings_count_shared_rooms                                       0.055021   \n",
       "reviews_per_month                                                                -0.057721   \n",
       "calculated_host_listings_count_private_rooms                                      1.000000   \n",
       "priceEuro                                                                        -0.151906   \n",
       "\n",
       "                                              priceEuro  \n",
       "accommodates                                   0.498232  \n",
       "bedrooms                                       0.457833  \n",
       "beds                                           0.402379  \n",
       "bathrooms                                      0.397919  \n",
       "calculated_host_listings_count_shared_rooms   -0.096588  \n",
       "reviews_per_month                             -0.136690  \n",
       "calculated_host_listings_count_private_rooms  -0.151906  \n",
       "priceEuro                                      1.000000  "
      ]
     },
     "execution_count": 364,
     "metadata": {},
     "output_type": "execute_result"
    }
   ],
   "source": [
    "# Use this cell to write the necessary code to perform Task #20\n",
    "\n",
    "relevant_features_df.corr()\n"
   ]
  },
  {
   "cell_type": "code",
   "execution_count": 365,
   "metadata": {},
   "outputs": [
    {
     "data": {
      "text/plain": [
       "Index(['accommodates', 'bedrooms', 'beds', 'bathrooms',\n",
       "       'calculated_host_listings_count_shared_rooms', 'reviews_per_month',\n",
       "       'calculated_host_listings_count_private_rooms', 'priceEuro'],\n",
       "      dtype='object')"
      ]
     },
     "execution_count": 365,
     "metadata": {},
     "output_type": "execute_result"
    }
   ],
   "source": [
    "relevant_features_df.columns"
   ]
  },
  {
   "cell_type": "code",
   "execution_count": 366,
   "metadata": {},
   "outputs": [
    {
     "name": "stderr",
     "output_type": "stream",
     "text": [
      "C:\\Users\\d store\\Anaconda3\\lib\\site-packages\\pandas\\core\\frame.py:4102: SettingWithCopyWarning: \n",
      "A value is trying to be set on a copy of a slice from a DataFrame\n",
      "\n",
      "See the caveats in the documentation: http://pandas.pydata.org/pandas-docs/stable/user_guide/indexing.html#returning-a-view-versus-a-copy\n",
      "  errors=errors,\n"
     ]
    },
    {
     "data": {
      "text/html": [
       "<div>\n",
       "<style scoped>\n",
       "    .dataframe tbody tr th:only-of-type {\n",
       "        vertical-align: middle;\n",
       "    }\n",
       "\n",
       "    .dataframe tbody tr th {\n",
       "        vertical-align: top;\n",
       "    }\n",
       "\n",
       "    .dataframe thead th {\n",
       "        text-align: right;\n",
       "    }\n",
       "</style>\n",
       "<table border=\"1\" class=\"dataframe\">\n",
       "  <thead>\n",
       "    <tr style=\"text-align: right;\">\n",
       "      <th></th>\n",
       "      <th>accommodates</th>\n",
       "      <th>bedrooms</th>\n",
       "      <th>beds</th>\n",
       "      <th>reviews_per_month</th>\n",
       "      <th>calculated_host_listings_count_private_rooms</th>\n",
       "      <th>priceEuro</th>\n",
       "    </tr>\n",
       "  </thead>\n",
       "  <tbody>\n",
       "    <tr>\n",
       "      <td>0</td>\n",
       "      <td>5</td>\n",
       "      <td>1.0</td>\n",
       "      <td>4.0</td>\n",
       "      <td>0.21</td>\n",
       "      <td>0</td>\n",
       "      <td>52.2</td>\n",
       "    </tr>\n",
       "    <tr>\n",
       "      <td>1</td>\n",
       "      <td>9</td>\n",
       "      <td>3.0</td>\n",
       "      <td>8.0</td>\n",
       "      <td>0.46</td>\n",
       "      <td>0</td>\n",
       "      <td>45.0</td>\n",
       "    </tr>\n",
       "    <tr>\n",
       "      <td>2</td>\n",
       "      <td>5</td>\n",
       "      <td>2.0</td>\n",
       "      <td>5.0</td>\n",
       "      <td>0.26</td>\n",
       "      <td>0</td>\n",
       "      <td>59.4</td>\n",
       "    </tr>\n",
       "    <tr>\n",
       "      <td>3</td>\n",
       "      <td>6</td>\n",
       "      <td>2.0</td>\n",
       "      <td>2.0</td>\n",
       "      <td>0.56</td>\n",
       "      <td>0</td>\n",
       "      <td>87.3</td>\n",
       "    </tr>\n",
       "    <tr>\n",
       "      <td>4</td>\n",
       "      <td>5</td>\n",
       "      <td>2.0</td>\n",
       "      <td>5.0</td>\n",
       "      <td>0.14</td>\n",
       "      <td>0</td>\n",
       "      <td>59.4</td>\n",
       "    </tr>\n",
       "  </tbody>\n",
       "</table>\n",
       "</div>"
      ],
      "text/plain": [
       "   accommodates  bedrooms  beds  reviews_per_month  \\\n",
       "0             5       1.0   4.0               0.21   \n",
       "1             9       3.0   8.0               0.46   \n",
       "2             5       2.0   5.0               0.26   \n",
       "3             6       2.0   2.0               0.56   \n",
       "4             5       2.0   5.0               0.14   \n",
       "\n",
       "   calculated_host_listings_count_private_rooms  priceEuro  \n",
       "0                                             0       52.2  \n",
       "1                                             0       45.0  \n",
       "2                                             0       59.4  \n",
       "3                                             0       87.3  \n",
       "4                                             0       59.4  "
      ]
     },
     "execution_count": 366,
     "metadata": {},
     "output_type": "execute_result"
    }
   ],
   "source": [
    "# we delete 'bathrooms','calculated_host_listings_count_shared_rooms'\n",
    "\n",
    "cols = ['bathrooms','calculated_host_listings_count_shared_rooms'] # deleting these 2 cols\n",
    "\n",
    "relevant_features_df.drop(cols, axis = 1, inplace = True) # deleting all 2 cols\n",
    "\n",
    "\n",
    "relevant_features_df.head()"
   ]
  },
  {
   "cell_type": "code",
   "execution_count": 367,
   "metadata": {},
   "outputs": [
    {
     "data": {
      "text/plain": [
       "Index(['accommodates', 'bedrooms', 'beds', 'reviews_per_month',\n",
       "       'calculated_host_listings_count_private_rooms', 'priceEuro'],\n",
       "      dtype='object')"
      ]
     },
     "execution_count": 367,
     "metadata": {},
     "output_type": "execute_result"
    }
   ],
   "source": [
    "relevant_features_df.columns"
   ]
  },
  {
   "cell_type": "markdown",
   "metadata": {},
   "source": [
    "Answer:"
   ]
  },
  {
   "cell_type": "markdown",
   "metadata": {},
   "source": [
    "<b> Task #21 </b><br>\n",
    "Create a OLS linear model to represent the priceEur as the function of the numerical variables you have in the dataset (only use the numerical variables you have and do not use price nor priceDollar).\n",
    "\n",
    "State what is the metric you are optimizing the model for.\n",
    "\n",
    "We will grade you in finding a good balance between this optimized metric and maintaining statistical of the variables. Around 10 variables in the model should give you good results.\n",
    "\n",
    "Explain the process you used to iterate between varibles to get to your results.\n",
    "\n",
    "Note: you can skip outlier detection and variable normalization."
   ]
  },
  {
   "cell_type": "code",
   "execution_count": 368,
   "metadata": {},
   "outputs": [
    {
     "name": "stdout",
     "output_type": "stream",
     "text": [
      "Intercept                                       28.266337\n",
      "accommodates                                     8.169237\n",
      "bedrooms                                         7.475211\n",
      "beds                                            -1.957829\n",
      "reviews_per_month                               -2.133078\n",
      "calculated_host_listings_count_private_rooms    -1.129982\n",
      "dtype: float64\n",
      "                            OLS Regression Results                            \n",
      "==============================================================================\n",
      "Dep. Variable:              priceEuro   R-squared:                       0.314\n",
      "Model:                            OLS   Adj. R-squared:                  0.313\n",
      "Method:                 Least Squares   F-statistic:                     910.8\n",
      "Date:                Sun, 22 Dec 2019   Prob (F-statistic):               0.00\n",
      "Time:                        14:27:58   Log-Likelihood:                -49139.\n",
      "No. Observations:                9963   AIC:                         9.829e+04\n",
      "Df Residuals:                    9957   BIC:                         9.833e+04\n",
      "Df Model:                           5                                         \n",
      "Covariance Type:            nonrobust                                         \n",
      "================================================================================================================\n",
      "                                                   coef    std err          t      P>|t|      [0.025      0.975]\n",
      "----------------------------------------------------------------------------------------------------------------\n",
      "Intercept                                       28.2663      0.876     32.282      0.000      26.550      29.983\n",
      "accommodates                                     8.1692      0.325     25.168      0.000       7.533       8.806\n",
      "bedrooms                                         7.4752      0.545     13.715      0.000       6.407       8.544\n",
      "beds                                            -1.9578      0.378     -5.174      0.000      -2.700      -1.216\n",
      "reviews_per_month                               -2.1331      0.183    -11.669      0.000      -2.491      -1.775\n",
      "calculated_host_listings_count_private_rooms    -1.1300      0.124     -9.112      0.000      -1.373      -0.887\n",
      "==============================================================================\n",
      "Omnibus:                     5195.278   Durbin-Watson:                   1.816\n",
      "Prob(Omnibus):                  0.000   Jarque-Bera (JB):            59672.281\n",
      "Skew:                           2.248   Prob(JB):                         0.00\n",
      "Kurtosis:                      14.114   Cond. No.                         15.9\n",
      "==============================================================================\n",
      "\n",
      "Warnings:\n",
      "[1] Standard Errors assume that the covariance matrix of the errors is correctly specified.\n"
     ]
    }
   ],
   "source": [
    "import pandas as pd\n",
    "import statsmodels.formula.api as sm\n",
    "f1 = 'priceEuro~accommodates+bedrooms+beds+reviews_per_month+calculated_host_listings_count_private_rooms'\n",
    "result = sm.ols(formula= f1, data=relevant_features_df).fit()\n",
    "print(result.params)\n",
    "print(result.summary())"
   ]
  },
  {
   "cell_type": "markdown",
   "metadata": {},
   "source": [
    "<b>State what is the metric you are optimizing the model for.</b>\n",
    "\n",
    "Answer: We are using <b> Adj. R-squared</b> as metrics for optimizing the model.\n",
    "\n"
   ]
  },
  {
   "cell_type": "markdown",
   "metadata": {},
   "source": [
    "Answer: "
   ]
  },
  {
   "cell_type": "markdown",
   "metadata": {},
   "source": [
    "<b> Task #22 </b><br>\n",
    "Interpret the results of the model, focusing on the functional interpretation of the coefficients.\n",
    "\n",
    "What other information could help you increasing the price prediction?"
   ]
  },
  {
   "cell_type": "markdown",
   "metadata": {},
   "source": [
    "#### Ans\n",
    "In the end we have model equation that is given below:<br>\n",
    "  \n",
    "priceEuro = 28.27 + 8.17(accommodates) + 7.48(bedrooms) - 1.96(beds) -2.13(reviews_per_month) - 1.13(calculated_host_listings_count_private_rooms) \n",
    "    \n"
   ]
  },
  {
   "cell_type": "markdown",
   "metadata": {},
   "source": [
    "<b> What other information could help you increasing the price prediction? </b>\n",
    "\n",
    "We can do many things to make better price prediction like, we can remove outliers, we can use more or less features, we can use other ML techniques, or we can use deep learning techniques etc."
   ]
  },
  {
   "cell_type": "markdown",
   "metadata": {},
   "source": [
    "# End of the Project"
   ]
  },
  {
   "cell_type": "code",
   "execution_count": null,
   "metadata": {},
   "outputs": [],
   "source": []
  }
 ],
 "metadata": {
  "kernelspec": {
   "display_name": "Python 3",
   "language": "python",
   "name": "python3"
  },
  "language_info": {
   "codemirror_mode": {
    "name": "ipython",
    "version": 3
   },
   "file_extension": ".py",
   "mimetype": "text/x-python",
   "name": "python",
   "nbconvert_exporter": "python",
   "pygments_lexer": "ipython3",
   "version": "3.7.3"
  }
 },
 "nbformat": 4,
 "nbformat_minor": 2
}
